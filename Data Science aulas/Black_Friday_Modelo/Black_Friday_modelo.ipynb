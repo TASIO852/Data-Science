{
  "cells": [
    {
      "cell_type": "markdown",
      "metadata": {
        "colab_type": "text",
        "id": "wOhOQYTio0ap"
      },
      "source": [
        "# Importando as bibliotecas."
      ]
    },
    {
      "cell_type": "code",
      "execution_count": null,
      "metadata": {
        "colab": {},
        "colab_type": "code",
        "id": "8bR9vcWXo7e-"
      },
      "outputs": [],
      "source": [
        "import pandas as pd\n",
        "import numpy as np\n",
        "from sklearn.preprocessing import StandardScaler\n",
        "from sklearn.pipeline import Pipeline\n",
        "from sklearn.model_selection import StratifiedKFold\n",
        "from sklearn.model_selection import KFold\n",
        "from sklearn.linear_model import LinearRegression\n",
        "from sklearn.tree import DecisionTreeRegressor\n",
        "from sklearn.ensemble import RandomForestRegressor\n",
        "from sklearn.linear_model import Lasso\n",
        "from sklearn.linear_model import ElasticNet\n",
        "from sklearn.ensemble import GradientBoostingRegressor\n",
        "from sklearn.ensemble import ExtraTreesRegressor\n",
        "from sklearn.ensemble import AdaBoostRegressor\n",
        "from xgboost import XGBRegressor\n",
        "from sklearn.model_selection import cross_val_score\n",
        "from sklearn import model_selection\n",
        "from sklearn.model_selection import RandomizedSearchCV\n",
        "from math import sqrt\n",
        "from warnings import simplefilter\n",
        "simplefilter(action='ignore', category=FutureWarning)"
      ]
    },
    {
      "cell_type": "markdown",
      "metadata": {
        "colab_type": "text",
        "id": "ONOdoO3tift5"
      },
      "source": [
        "# Carregando os dados de treino e teste."
      ]
    },
    {
      "cell_type": "code",
      "execution_count": null,
      "metadata": {
        "colab": {},
        "colab_type": "code",
        "id": "UB6L_8u2zcOV"
      },
      "outputs": [],
      "source": [
        "df_train = pd.read_csv('drive/My Drive/Colab Notebooks/train.csv')\n",
        "df_test = pd.read_csv('drive/My Drive/Colab Notebooks/test.csv')"
      ]
    },
    {
      "cell_type": "markdown",
      "metadata": {
        "colab_type": "text",
        "id": "iHb5NmlZuH0T"
      },
      "source": [
        "# Criando o DataFrame de submissão."
      ]
    },
    {
      "cell_type": "code",
      "execution_count": null,
      "metadata": {
        "colab": {},
        "colab_type": "code",
        "id": "7oezcDKy0IDA"
      },
      "outputs": [],
      "source": [
        "submission = pd.DataFrame()\n",
        "submission[['User_ID','Product_ID']] = df_test[['User_ID','Product_ID']]"
      ]
    },
    {
      "cell_type": "code",
      "execution_count": 4,
      "metadata": {
        "colab": {
          "base_uri": "https://localhost:8080/",
          "height": 54
        },
        "colab_type": "code",
        "id": "q52kmrgU4GIB",
        "outputId": "4bbb1b93-e67e-4af5-cc2a-d2946e4e458f"
      },
      "outputs": [
        {
          "name": "stdout",
          "output_type": "stream",
          "text": [
            "Drive already mounted at /content/drive; to attempt to forcibly remount, call drive.mount(\"/content/drive\", force_remount=True).\n"
          ]
        }
      ],
      "source": [
        "from google.colab import drive\n",
        "drive.mount('/content/drive')"
      ]
    },
    {
      "cell_type": "markdown",
      "metadata": {
        "colab_type": "text",
        "id": "9bwzz9A-M_jq"
      },
      "source": [
        "# Transformação dos dados"
      ]
    },
    {
      "cell_type": "markdown",
      "metadata": {
        "colab_type": "text",
        "id": "trm1PLkBpsNW"
      },
      "source": [
        "Durante a análise exploratória de dados (EDA), ficou claro que na coluna 'Product_Category_1' temos dois outliers pontuais, vamos removê-los. No link a seguir você encontra mais detalhes \n",
        "https://github.com/karinnecristina/Data-Science/blob/master/Black_Friday/Estatistica_Descritiva.ipynb"
      ]
    },
    {
      "cell_type": "code",
      "execution_count": 5,
      "metadata": {
        "colab": {
          "base_uri": "https://localhost:8080/",
          "height": 374
        },
        "colab_type": "code",
        "id": "8Vkc1ehMF1Sg",
        "outputId": "c76e4f64-c265-45f8-b029-95e68c18b697"
      },
      "outputs": [
        {
          "data": {
            "text/plain": [
              "5     150933\n",
              "1     140378\n",
              "8     113925\n",
              "11     24287\n",
              "2      23864\n",
              "6      20466\n",
              "3      20213\n",
              "4      11753\n",
              "16      9828\n",
              "15      6290\n",
              "13      5549\n",
              "10      5125\n",
              "12      3947\n",
              "7       3721\n",
              "18      3125\n",
              "20      2550\n",
              "19      1603\n",
              "14      1523\n",
              "17       578\n",
              "9        410\n",
              "Name: Product_Category_1, dtype: int64"
            ]
          },
          "execution_count": 5,
          "metadata": {
            "tags": []
          },
          "output_type": "execute_result"
        }
      ],
      "source": [
        "df_train['Product_Category_1'].value_counts()"
      ]
    },
    {
      "cell_type": "code",
      "execution_count": 6,
      "metadata": {
        "colab": {
          "base_uri": "https://localhost:8080/",
          "height": 340
        },
        "colab_type": "code",
        "id": "ewzKE6DrF4_N",
        "outputId": "f9f0dad5-e1ca-489c-8d7e-fe5e68e84fda"
      },
      "outputs": [
        {
          "data": {
            "text/plain": [
              "5     65017\n",
              "1     60321\n",
              "8     48369\n",
              "2     10192\n",
              "11    10153\n",
              "6      8860\n",
              "3      8578\n",
              "4      5003\n",
              "16     4105\n",
              "15     2694\n",
              "13     2381\n",
              "10     2248\n",
              "12     1663\n",
              "7      1624\n",
              "18     1311\n",
              "14      663\n",
              "17      223\n",
              "9       194\n",
              "Name: Product_Category_1, dtype: int64"
            ]
          },
          "execution_count": 6,
          "metadata": {
            "tags": []
          },
          "output_type": "execute_result"
        }
      ],
      "source": [
        "df_test['Product_Category_1'].value_counts()"
      ]
    },
    {
      "cell_type": "markdown",
      "metadata": {
        "colab_type": "text",
        "id": "Cxv5lLYlF8Gd"
      },
      "source": [
        "Como podemos observar acima só temos esses indíces no dataset de treino, então teremos que removê-los antes de concatenar esses datasets."
      ]
    },
    {
      "cell_type": "code",
      "execution_count": null,
      "metadata": {
        "colab": {},
        "colab_type": "code",
        "id": "-3mlkf3G898H"
      },
      "outputs": [],
      "source": [
        "# Removendo os outliers do dataset de treino\n",
        "df_train.drop(df_train[(df_train.Product_Category_1 == 19) | (df_train.Product_Category_1 == 20)].index,inplace=True)"
      ]
    },
    {
      "cell_type": "markdown",
      "metadata": {
        "colab_type": "text",
        "id": "pZJ7tAH1vMUB"
      },
      "source": [
        "Todas as transformações devem ser feitas em ambos datasets e afim de facilitar esse processo vamos concatena-los sem a variável target(Purchase), assim não precisamos fazer essa tarefa 2 vezes. \n"
      ]
    },
    {
      "cell_type": "code",
      "execution_count": 8,
      "metadata": {
        "colab": {
          "base_uri": "https://localhost:8080/",
          "height": 34
        },
        "colab_type": "code",
        "id": "E2mZ3kLV3NFR",
        "outputId": "9c3011e9-30b3-4521-f771-0cad8c0bc5ab"
      },
      "outputs": [
        {
          "data": {
            "text/plain": [
              "((545915, 12), (233599, 11), (779514, 11))"
            ]
          },
          "execution_count": 8,
          "metadata": {
            "tags": []
          },
          "output_type": "execute_result"
        }
      ],
      "source": [
        "train = df_train\n",
        "test = df_test\n",
        "\n",
        "df = pd.concat([train.drop('Purchase', axis=1),test],ignore_index = True, sort = False)\n",
        "target = train['Purchase']\n",
        "\n",
        "# Verificando a dimensão dos datasets.\n",
        "train.shape, test.shape, df.shape"
      ]
    },
    {
      "cell_type": "code",
      "execution_count": 9,
      "metadata": {
        "colab": {
          "base_uri": "https://localhost:8080/",
          "height": 292
        },
        "colab_type": "code",
        "id": "xzvjuhtf3NFb",
        "outputId": "f75861e9-1e37-4e74-85d4-b5dda5e07794"
      },
      "outputs": [
        {
          "data": {
            "text/html": [
              "<div>\n",
              "<style scoped>\n",
              "    .dataframe tbody tr th:only-of-type {\n",
              "        vertical-align: middle;\n",
              "    }\n",
              "\n",
              "    .dataframe tbody tr th {\n",
              "        vertical-align: top;\n",
              "    }\n",
              "\n",
              "    .dataframe thead th {\n",
              "        text-align: right;\n",
              "    }\n",
              "</style>\n",
              "<table border=\"1\" class=\"dataframe\">\n",
              "  <thead>\n",
              "    <tr style=\"text-align: right;\">\n",
              "      <th></th>\n",
              "      <th>User_ID</th>\n",
              "      <th>Product_ID</th>\n",
              "      <th>Gender</th>\n",
              "      <th>Age</th>\n",
              "      <th>Occupation</th>\n",
              "      <th>City_Category</th>\n",
              "      <th>Stay_In_Current_City_Years</th>\n",
              "      <th>Marital_Status</th>\n",
              "      <th>Product_Category_1</th>\n",
              "      <th>Product_Category_2</th>\n",
              "      <th>Product_Category_3</th>\n",
              "    </tr>\n",
              "  </thead>\n",
              "  <tbody>\n",
              "    <tr>\n",
              "      <th>0</th>\n",
              "      <td>1000001</td>\n",
              "      <td>P00069042</td>\n",
              "      <td>F</td>\n",
              "      <td>0-17</td>\n",
              "      <td>10</td>\n",
              "      <td>A</td>\n",
              "      <td>2</td>\n",
              "      <td>0</td>\n",
              "      <td>3</td>\n",
              "      <td>NaN</td>\n",
              "      <td>NaN</td>\n",
              "    </tr>\n",
              "    <tr>\n",
              "      <th>1</th>\n",
              "      <td>1000001</td>\n",
              "      <td>P00248942</td>\n",
              "      <td>F</td>\n",
              "      <td>0-17</td>\n",
              "      <td>10</td>\n",
              "      <td>A</td>\n",
              "      <td>2</td>\n",
              "      <td>0</td>\n",
              "      <td>1</td>\n",
              "      <td>6.0</td>\n",
              "      <td>14.0</td>\n",
              "    </tr>\n",
              "    <tr>\n",
              "      <th>2</th>\n",
              "      <td>1000001</td>\n",
              "      <td>P00087842</td>\n",
              "      <td>F</td>\n",
              "      <td>0-17</td>\n",
              "      <td>10</td>\n",
              "      <td>A</td>\n",
              "      <td>2</td>\n",
              "      <td>0</td>\n",
              "      <td>12</td>\n",
              "      <td>NaN</td>\n",
              "      <td>NaN</td>\n",
              "    </tr>\n",
              "    <tr>\n",
              "      <th>3</th>\n",
              "      <td>1000001</td>\n",
              "      <td>P00085442</td>\n",
              "      <td>F</td>\n",
              "      <td>0-17</td>\n",
              "      <td>10</td>\n",
              "      <td>A</td>\n",
              "      <td>2</td>\n",
              "      <td>0</td>\n",
              "      <td>12</td>\n",
              "      <td>14.0</td>\n",
              "      <td>NaN</td>\n",
              "    </tr>\n",
              "    <tr>\n",
              "      <th>4</th>\n",
              "      <td>1000002</td>\n",
              "      <td>P00285442</td>\n",
              "      <td>M</td>\n",
              "      <td>55+</td>\n",
              "      <td>16</td>\n",
              "      <td>C</td>\n",
              "      <td>4+</td>\n",
              "      <td>0</td>\n",
              "      <td>8</td>\n",
              "      <td>NaN</td>\n",
              "      <td>NaN</td>\n",
              "    </tr>\n",
              "  </tbody>\n",
              "</table>\n",
              "</div>"
            ],
            "text/plain": [
              "   User_ID Product_ID  ... Product_Category_2 Product_Category_3\n",
              "0  1000001  P00069042  ...                NaN                NaN\n",
              "1  1000001  P00248942  ...                6.0               14.0\n",
              "2  1000001  P00087842  ...                NaN                NaN\n",
              "3  1000001  P00085442  ...               14.0                NaN\n",
              "4  1000002  P00285442  ...                NaN                NaN\n",
              "\n",
              "[5 rows x 11 columns]"
            ]
          },
          "execution_count": 9,
          "metadata": {
            "tags": []
          },
          "output_type": "execute_result"
        }
      ],
      "source": [
        "df.head()"
      ]
    },
    {
      "cell_type": "markdown",
      "metadata": {
        "colab_type": "text",
        "id": "R6AT_-lbpXpM"
      },
      "source": [
        "Informações sobre as colunas"
      ]
    },
    {
      "cell_type": "code",
      "execution_count": 10,
      "metadata": {
        "colab": {
          "base_uri": "https://localhost:8080/",
          "height": 289
        },
        "colab_type": "code",
        "id": "ymQqN9GX3NFe",
        "outputId": "c8d062ab-64e2-406d-c7da-59c130164bfb"
      },
      "outputs": [
        {
          "name": "stdout",
          "output_type": "stream",
          "text": [
            "<class 'pandas.core.frame.DataFrame'>\n",
            "RangeIndex: 779514 entries, 0 to 779513\n",
            "Data columns (total 11 columns):\n",
            "User_ID                       779514 non-null int64\n",
            "Product_ID                    779514 non-null object\n",
            "Gender                        779514 non-null object\n",
            "Age                           779514 non-null object\n",
            "Occupation                    779514 non-null int64\n",
            "City_Category                 779514 non-null object\n",
            "Stay_In_Current_City_Years    779514 non-null object\n",
            "Marital_Status                779514 non-null int64\n",
            "Product_Category_1            779514 non-null int64\n",
            "Product_Category_2            537685 non-null float64\n",
            "Product_Category_3            237858 non-null float64\n",
            "dtypes: float64(2), int64(4), object(5)\n",
            "memory usage: 65.4+ MB\n"
          ]
        }
      ],
      "source": [
        "df.info()"
      ]
    },
    {
      "cell_type": "markdown",
      "metadata": {
        "colab_type": "text",
        "id": "_dKYVNDfaepl"
      },
      "source": [
        "Verificando a quantidade de valores nulos no dataset."
      ]
    },
    {
      "cell_type": "code",
      "execution_count": 11,
      "metadata": {
        "colab": {
          "base_uri": "https://localhost:8080/",
          "height": 111
        },
        "colab_type": "code",
        "id": "lUKxzVRJ3NFy",
        "outputId": "be8b958a-e37e-446b-d4e4-910dadeb85b1"
      },
      "outputs": [
        {
          "data": {
            "text/html": [
              "<div>\n",
              "<style scoped>\n",
              "    .dataframe tbody tr th:only-of-type {\n",
              "        vertical-align: middle;\n",
              "    }\n",
              "\n",
              "    .dataframe tbody tr th {\n",
              "        vertical-align: top;\n",
              "    }\n",
              "\n",
              "    .dataframe thead th {\n",
              "        text-align: right;\n",
              "    }\n",
              "</style>\n",
              "<table border=\"1\" class=\"dataframe\">\n",
              "  <thead>\n",
              "    <tr style=\"text-align: right;\">\n",
              "      <th></th>\n",
              "      <th>total</th>\n",
              "      <th>percent</th>\n",
              "    </tr>\n",
              "  </thead>\n",
              "  <tbody>\n",
              "    <tr>\n",
              "      <th>Product_Category_3</th>\n",
              "      <td>54165600</td>\n",
              "      <td>69.486372</td>\n",
              "    </tr>\n",
              "    <tr>\n",
              "      <th>Product_Category_2</th>\n",
              "      <td>24182900</td>\n",
              "      <td>31.023048</td>\n",
              "    </tr>\n",
              "  </tbody>\n",
              "</table>\n",
              "</div>"
            ],
            "text/plain": [
              "                       total    percent\n",
              "Product_Category_3  54165600  69.486372\n",
              "Product_Category_2  24182900  31.023048"
            ]
          },
          "execution_count": 11,
          "metadata": {
            "tags": []
          },
          "output_type": "execute_result"
        }
      ],
      "source": [
        "total = df.isnull().sum().sort_values(ascending=False)\n",
        "percent = df.isnull().sum()/df.isnull().count().sort_values(ascending=False)\n",
        "missing_data = pd.concat([total, percent], axis=1, sort=False, keys=['total', 'percent'])\n",
        "missing_data[missing_data['percent']!=0]*100"
      ]
    },
    {
      "cell_type": "markdown",
      "metadata": {
        "colab_type": "text",
        "id": "26kQHT4PVIzb"
      },
      "source": [
        "Preeenchendo os valores nulos da coluna 'Product_Category_2' e transformando seus valores em inteiro."
      ]
    },
    {
      "cell_type": "code",
      "execution_count": null,
      "metadata": {
        "colab": {},
        "colab_type": "code",
        "id": "s-NhTtZRkf8p"
      },
      "outputs": [],
      "source": [
        "df['Product_Category_2'] = df['Product_Category_2'].fillna(-999).astype(int)"
      ]
    },
    {
      "cell_type": "markdown",
      "metadata": {
        "colab_type": "text",
        "id": "QUj6Eg1PDFmI"
      },
      "source": [
        "Opa! Mais temos duas colunas com valores nulos e só estamos preenchendo uma, isso parece meio estranho. Vamos dar uma olhada nos valores únicos de cada coluna."
      ]
    },
    {
      "cell_type": "code",
      "execution_count": 13,
      "metadata": {
        "colab": {
          "base_uri": "https://localhost:8080/",
          "height": 221
        },
        "colab_type": "code",
        "id": "UuHM2LnaF8HK",
        "outputId": "6ba9308d-71b7-4763-df6d-0f8b8ec3b4d9"
      },
      "outputs": [
        {
          "data": {
            "text/plain": [
              "User_ID                       5891\n",
              "Product_ID                    3672\n",
              "Gender                           2\n",
              "Age                              7\n",
              "Occupation                      21\n",
              "City_Category                    3\n",
              "Stay_In_Current_City_Years       5\n",
              "Marital_Status                   2\n",
              "Product_Category_1              18\n",
              "Product_Category_2              18\n",
              "Product_Category_3              16\n",
              "dtype: int64"
            ]
          },
          "execution_count": 13,
          "metadata": {
            "tags": []
          },
          "output_type": "execute_result"
        }
      ],
      "source": [
        "df.apply(lambda x: len(x.unique()))"
      ]
    },
    {
      "cell_type": "markdown",
      "metadata": {
        "colab_type": "text",
        "id": "Mnn6tPtCGOgf"
      },
      "source": [
        "**Podemos observar que a coluna 'Product_Category_3' tem um número menor de valores únicos comparado com as outras duas colunas referentes a categoria do produto. Conforme foi informado na descrição do problema os produtos da categoria 2 e 3 podem pertencer a outra categoria também, mais isso não se aplica aos produtos da categoria  1 que é a categoria principal. Podemos observar que 2 produtos da categoria principal não pertence a categoria 3, então isso pode nos indicar que essa categoria de produtos não Influenciará no valor final da compra.**"
      ]
    },
    {
      "cell_type": "markdown",
      "metadata": {
        "colab_type": "text",
        "id": "_oZmQSgXIM-X"
      },
      "source": [
        "Temos vários IDs(1000001,1000002,1000004 - que inclusive se repetem) e cada um \n",
        "desses IDs está relacionado com vários produtos.\n",
        "Vamos verificar a quantidade de usuários por ID e a quantidade de produtos. Para efetuar essa contagem vamos utilizar o **transform** que faz a contagem mais retorna a mesma quantidade de dados diferentemente do aggregate que retorna uma versão reduzida dos dados. Por último vamos ver qual o valor médio de compra de cada produto."
      ]
    },
    {
      "cell_type": "code",
      "execution_count": null,
      "metadata": {
        "colab": {},
        "colab_type": "code",
        "id": "yY6psXI9pnhO"
      },
      "outputs": [],
      "source": [
        "# Número de usuários por ID.\n",
        "df['User_count'] = df.User_ID.groupby(df.User_ID).transform('count')\n",
        "\n",
        "# Quantidade de produtos.\n",
        "df['Product_count'] = df.Product_ID.groupby(df.Product_ID).transform('count')\n",
        "\n",
        "# Valor médio de compra de cada produto.\n",
        "df['Product_mean'] = df['Product_ID'].map(target.groupby(train['Product_ID']).mean())\n",
        "df['Product_mean'] = df['Product_mean'].replace(np.nan, 0)"
      ]
    },
    {
      "cell_type": "markdown",
      "metadata": {
        "colab_type": "text",
        "id": "pzoRIq1oVAmi"
      },
      "source": [
        "Transformando os dados da coluna 'Age' em numéricos com a média aritmética entre os valores."
      ]
    },
    {
      "cell_type": "code",
      "execution_count": null,
      "metadata": {
        "colab": {},
        "colab_type": "code",
        "id": "T5f5Z7Zu3NGA"
      },
      "outputs": [],
      "source": [
        "age_dict = {'0-17':17, '18-25':21, '26-35':30, '36-45':40, '46-50':48, '51-55':53, '55+':60}\n",
        "df[\"Age\"] = df[\"Age\"].apply(lambda x: age_dict[x])"
      ]
    },
    {
      "cell_type": "markdown",
      "metadata": {
        "colab_type": "text",
        "id": "HCq0e0JyU1IL"
      },
      "source": [
        " Na coluna 'Stay_In_Current_City_Years' temos uma string acompanhada de um caracter especial, vamos trocar o valor dessa string por 5 já que ela está como '4+' ao meu ver isso significa que é mais de 4 por isso vou preencher com o valor 5 e transformar seus dados para inteiros."
      ]
    },
    {
      "cell_type": "code",
      "execution_count": null,
      "metadata": {
        "colab": {},
        "colab_type": "code",
        "id": "V_OqGM5za5qs"
      },
      "outputs": [],
      "source": [
        "df['Stay_In_Current_City_Years'] = df['Stay_In_Current_City_Years'].replace('4+', 5).astype(int)"
      ]
    },
    {
      "cell_type": "markdown",
      "metadata": {
        "colab_type": "text",
        "id": "vGu2GxEvB0D3"
      },
      "source": [
        "Transformando as variáveis categóricas nominais em numéricas. Estou usando o **drop_first** para evitar o problema de Dummy Variable trap. Mais detalhes no site:https://medium.com/@saurav9786/dummy-variable-trap-c6d4a387f10a"
      ]
    },
    {
      "cell_type": "code",
      "execution_count": null,
      "metadata": {
        "colab": {},
        "colab_type": "code",
        "id": "ClRYEbS1eEfz"
      },
      "outputs": [],
      "source": [
        "df = pd.get_dummies(df, columns=['Gender','City_Category'], drop_first=True)"
      ]
    },
    {
      "cell_type": "markdown",
      "metadata": {
        "colab_type": "text",
        "id": "ZCZxCM-eaqgZ"
      },
      "source": [
        "Visualizando se os dados foram preenchidos corretamente."
      ]
    },
    {
      "cell_type": "code",
      "execution_count": 18,
      "metadata": {
        "colab": {
          "base_uri": "https://localhost:8080/",
          "height": 224
        },
        "colab_type": "code",
        "id": "jynNtAvD3NF5",
        "outputId": "920dbdde-2aee-4d5a-c930-9ce292f44ac3"
      },
      "outputs": [
        {
          "data": {
            "text/html": [
              "<div>\n",
              "<style scoped>\n",
              "    .dataframe tbody tr th:only-of-type {\n",
              "        vertical-align: middle;\n",
              "    }\n",
              "\n",
              "    .dataframe tbody tr th {\n",
              "        vertical-align: top;\n",
              "    }\n",
              "\n",
              "    .dataframe thead th {\n",
              "        text-align: right;\n",
              "    }\n",
              "</style>\n",
              "<table border=\"1\" class=\"dataframe\">\n",
              "  <thead>\n",
              "    <tr style=\"text-align: right;\">\n",
              "      <th></th>\n",
              "      <th>User_ID</th>\n",
              "      <th>Product_ID</th>\n",
              "      <th>Age</th>\n",
              "      <th>Occupation</th>\n",
              "      <th>Stay_In_Current_City_Years</th>\n",
              "      <th>Marital_Status</th>\n",
              "      <th>Product_Category_1</th>\n",
              "      <th>Product_Category_2</th>\n",
              "      <th>Product_Category_3</th>\n",
              "      <th>User_count</th>\n",
              "      <th>Product_count</th>\n",
              "      <th>Product_mean</th>\n",
              "      <th>Gender_M</th>\n",
              "      <th>City_Category_B</th>\n",
              "      <th>City_Category_C</th>\n",
              "    </tr>\n",
              "  </thead>\n",
              "  <tbody>\n",
              "    <tr>\n",
              "      <th>0</th>\n",
              "      <td>1000001</td>\n",
              "      <td>P00069042</td>\n",
              "      <td>17</td>\n",
              "      <td>10</td>\n",
              "      <td>2</td>\n",
              "      <td>0</td>\n",
              "      <td>3</td>\n",
              "      <td>-999</td>\n",
              "      <td>NaN</td>\n",
              "      <td>46</td>\n",
              "      <td>344</td>\n",
              "      <td>11870.863436</td>\n",
              "      <td>0</td>\n",
              "      <td>0</td>\n",
              "      <td>0</td>\n",
              "    </tr>\n",
              "    <tr>\n",
              "      <th>1</th>\n",
              "      <td>1000001</td>\n",
              "      <td>P00248942</td>\n",
              "      <td>17</td>\n",
              "      <td>10</td>\n",
              "      <td>2</td>\n",
              "      <td>0</td>\n",
              "      <td>1</td>\n",
              "      <td>6</td>\n",
              "      <td>14.0</td>\n",
              "      <td>46</td>\n",
              "      <td>845</td>\n",
              "      <td>16304.030981</td>\n",
              "      <td>0</td>\n",
              "      <td>0</td>\n",
              "      <td>0</td>\n",
              "    </tr>\n",
              "    <tr>\n",
              "      <th>2</th>\n",
              "      <td>1000001</td>\n",
              "      <td>P00087842</td>\n",
              "      <td>17</td>\n",
              "      <td>10</td>\n",
              "      <td>2</td>\n",
              "      <td>0</td>\n",
              "      <td>12</td>\n",
              "      <td>-999</td>\n",
              "      <td>NaN</td>\n",
              "      <td>46</td>\n",
              "      <td>150</td>\n",
              "      <td>1237.892157</td>\n",
              "      <td>0</td>\n",
              "      <td>0</td>\n",
              "      <td>0</td>\n",
              "    </tr>\n",
              "    <tr>\n",
              "      <th>3</th>\n",
              "      <td>1000001</td>\n",
              "      <td>P00085442</td>\n",
              "      <td>17</td>\n",
              "      <td>10</td>\n",
              "      <td>2</td>\n",
              "      <td>0</td>\n",
              "      <td>12</td>\n",
              "      <td>14</td>\n",
              "      <td>NaN</td>\n",
              "      <td>46</td>\n",
              "      <td>496</td>\n",
              "      <td>1455.140762</td>\n",
              "      <td>0</td>\n",
              "      <td>0</td>\n",
              "      <td>0</td>\n",
              "    </tr>\n",
              "    <tr>\n",
              "      <th>4</th>\n",
              "      <td>1000002</td>\n",
              "      <td>P00285442</td>\n",
              "      <td>60</td>\n",
              "      <td>16</td>\n",
              "      <td>5</td>\n",
              "      <td>0</td>\n",
              "      <td>8</td>\n",
              "      <td>-999</td>\n",
              "      <td>NaN</td>\n",
              "      <td>106</td>\n",
              "      <td>283</td>\n",
              "      <td>7692.763547</td>\n",
              "      <td>1</td>\n",
              "      <td>0</td>\n",
              "      <td>1</td>\n",
              "    </tr>\n",
              "  </tbody>\n",
              "</table>\n",
              "</div>"
            ],
            "text/plain": [
              "   User_ID Product_ID  Age  ...  Gender_M  City_Category_B  City_Category_C\n",
              "0  1000001  P00069042   17  ...         0                0                0\n",
              "1  1000001  P00248942   17  ...         0                0                0\n",
              "2  1000001  P00087842   17  ...         0                0                0\n",
              "3  1000001  P00085442   17  ...         0                0                0\n",
              "4  1000002  P00285442   60  ...         1                0                1\n",
              "\n",
              "[5 rows x 15 columns]"
            ]
          },
          "execution_count": 18,
          "metadata": {
            "tags": []
          },
          "output_type": "execute_result"
        }
      ],
      "source": [
        "df.head()"
      ]
    },
    {
      "cell_type": "markdown",
      "metadata": {
        "colab_type": "text",
        "id": "lqxfJ-M0j9Ve"
      },
      "source": [
        "Agora vamos iremos remover as colunas 'User_ID' e 'Product_ID', pois elas só contém a identificação dos usuários e dos produtos, e a coluna 'Product_Category_3' que como vimos acima não tem uma relação total com a categoria principal e não serão necessárias no nosso modelo.\n",
        "\n"
      ]
    },
    {
      "cell_type": "code",
      "execution_count": 19,
      "metadata": {
        "colab": {
          "base_uri": "https://localhost:8080/",
          "height": 689
        },
        "colab_type": "code",
        "id": "j3aucnI-3NGD",
        "outputId": "18f50667-cf7c-437d-dab6-cb214670a314"
      },
      "outputs": [
        {
          "data": {
            "text/html": [
              "<div>\n",
              "<style scoped>\n",
              "    .dataframe tbody tr th:only-of-type {\n",
              "        vertical-align: middle;\n",
              "    }\n",
              "\n",
              "    .dataframe tbody tr th {\n",
              "        vertical-align: top;\n",
              "    }\n",
              "\n",
              "    .dataframe thead th {\n",
              "        text-align: right;\n",
              "    }\n",
              "</style>\n",
              "<table border=\"1\" class=\"dataframe\">\n",
              "  <thead>\n",
              "    <tr style=\"text-align: right;\">\n",
              "      <th></th>\n",
              "      <th>Age</th>\n",
              "      <th>Occupation</th>\n",
              "      <th>Stay_In_Current_City_Years</th>\n",
              "      <th>Marital_Status</th>\n",
              "      <th>Product_Category_1</th>\n",
              "      <th>Product_Category_2</th>\n",
              "      <th>User_count</th>\n",
              "      <th>Product_count</th>\n",
              "      <th>Product_mean</th>\n",
              "      <th>Gender_M</th>\n",
              "      <th>City_Category_B</th>\n",
              "      <th>City_Category_C</th>\n",
              "    </tr>\n",
              "  </thead>\n",
              "  <tbody>\n",
              "    <tr>\n",
              "      <th>0</th>\n",
              "      <td>17</td>\n",
              "      <td>10</td>\n",
              "      <td>2</td>\n",
              "      <td>0</td>\n",
              "      <td>3</td>\n",
              "      <td>-999</td>\n",
              "      <td>46</td>\n",
              "      <td>344</td>\n",
              "      <td>11870.863436</td>\n",
              "      <td>0</td>\n",
              "      <td>0</td>\n",
              "      <td>0</td>\n",
              "    </tr>\n",
              "    <tr>\n",
              "      <th>1</th>\n",
              "      <td>17</td>\n",
              "      <td>10</td>\n",
              "      <td>2</td>\n",
              "      <td>0</td>\n",
              "      <td>1</td>\n",
              "      <td>6</td>\n",
              "      <td>46</td>\n",
              "      <td>845</td>\n",
              "      <td>16304.030981</td>\n",
              "      <td>0</td>\n",
              "      <td>0</td>\n",
              "      <td>0</td>\n",
              "    </tr>\n",
              "    <tr>\n",
              "      <th>2</th>\n",
              "      <td>17</td>\n",
              "      <td>10</td>\n",
              "      <td>2</td>\n",
              "      <td>0</td>\n",
              "      <td>12</td>\n",
              "      <td>-999</td>\n",
              "      <td>46</td>\n",
              "      <td>150</td>\n",
              "      <td>1237.892157</td>\n",
              "      <td>0</td>\n",
              "      <td>0</td>\n",
              "      <td>0</td>\n",
              "    </tr>\n",
              "    <tr>\n",
              "      <th>3</th>\n",
              "      <td>17</td>\n",
              "      <td>10</td>\n",
              "      <td>2</td>\n",
              "      <td>0</td>\n",
              "      <td>12</td>\n",
              "      <td>14</td>\n",
              "      <td>46</td>\n",
              "      <td>496</td>\n",
              "      <td>1455.140762</td>\n",
              "      <td>0</td>\n",
              "      <td>0</td>\n",
              "      <td>0</td>\n",
              "    </tr>\n",
              "    <tr>\n",
              "      <th>4</th>\n",
              "      <td>60</td>\n",
              "      <td>16</td>\n",
              "      <td>5</td>\n",
              "      <td>0</td>\n",
              "      <td>8</td>\n",
              "      <td>-999</td>\n",
              "      <td>106</td>\n",
              "      <td>283</td>\n",
              "      <td>7692.763547</td>\n",
              "      <td>1</td>\n",
              "      <td>0</td>\n",
              "      <td>1</td>\n",
              "    </tr>\n",
              "    <tr>\n",
              "      <th>5</th>\n",
              "      <td>30</td>\n",
              "      <td>15</td>\n",
              "      <td>3</td>\n",
              "      <td>0</td>\n",
              "      <td>1</td>\n",
              "      <td>2</td>\n",
              "      <td>41</td>\n",
              "      <td>863</td>\n",
              "      <td>14318.772358</td>\n",
              "      <td>1</td>\n",
              "      <td>0</td>\n",
              "      <td>0</td>\n",
              "    </tr>\n",
              "    <tr>\n",
              "      <th>6</th>\n",
              "      <td>48</td>\n",
              "      <td>7</td>\n",
              "      <td>2</td>\n",
              "      <td>1</td>\n",
              "      <td>1</td>\n",
              "      <td>8</td>\n",
              "      <td>14</td>\n",
              "      <td>2066</td>\n",
              "      <td>16899.227083</td>\n",
              "      <td>1</td>\n",
              "      <td>1</td>\n",
              "      <td>0</td>\n",
              "    </tr>\n",
              "    <tr>\n",
              "      <th>7</th>\n",
              "      <td>48</td>\n",
              "      <td>7</td>\n",
              "      <td>2</td>\n",
              "      <td>1</td>\n",
              "      <td>1</td>\n",
              "      <td>15</td>\n",
              "      <td>14</td>\n",
              "      <td>826</td>\n",
              "      <td>14169.618887</td>\n",
              "      <td>1</td>\n",
              "      <td>1</td>\n",
              "      <td>0</td>\n",
              "    </tr>\n",
              "    <tr>\n",
              "      <th>8</th>\n",
              "      <td>48</td>\n",
              "      <td>7</td>\n",
              "      <td>2</td>\n",
              "      <td>1</td>\n",
              "      <td>1</td>\n",
              "      <td>16</td>\n",
              "      <td>14</td>\n",
              "      <td>1304</td>\n",
              "      <td>15947.346491</td>\n",
              "      <td>1</td>\n",
              "      <td>1</td>\n",
              "      <td>0</td>\n",
              "    </tr>\n",
              "    <tr>\n",
              "      <th>9</th>\n",
              "      <td>30</td>\n",
              "      <td>20</td>\n",
              "      <td>1</td>\n",
              "      <td>1</td>\n",
              "      <td>8</td>\n",
              "      <td>-999</td>\n",
              "      <td>151</td>\n",
              "      <td>1139</td>\n",
              "      <td>8068.920555</td>\n",
              "      <td>1</td>\n",
              "      <td>0</td>\n",
              "      <td>0</td>\n",
              "    </tr>\n",
              "    <tr>\n",
              "      <th>10</th>\n",
              "      <td>30</td>\n",
              "      <td>20</td>\n",
              "      <td>1</td>\n",
              "      <td>1</td>\n",
              "      <td>5</td>\n",
              "      <td>11</td>\n",
              "      <td>151</td>\n",
              "      <td>1682</td>\n",
              "      <td>6861.852570</td>\n",
              "      <td>1</td>\n",
              "      <td>0</td>\n",
              "      <td>0</td>\n",
              "    </tr>\n",
              "    <tr>\n",
              "      <th>11</th>\n",
              "      <td>30</td>\n",
              "      <td>20</td>\n",
              "      <td>1</td>\n",
              "      <td>1</td>\n",
              "      <td>8</td>\n",
              "      <td>-999</td>\n",
              "      <td>151</td>\n",
              "      <td>960</td>\n",
              "      <td>8070.087798</td>\n",
              "      <td>1</td>\n",
              "      <td>0</td>\n",
              "      <td>0</td>\n",
              "    </tr>\n",
              "    <tr>\n",
              "      <th>12</th>\n",
              "      <td>30</td>\n",
              "      <td>20</td>\n",
              "      <td>1</td>\n",
              "      <td>1</td>\n",
              "      <td>8</td>\n",
              "      <td>-999</td>\n",
              "      <td>151</td>\n",
              "      <td>43</td>\n",
              "      <td>7606.722222</td>\n",
              "      <td>1</td>\n",
              "      <td>0</td>\n",
              "      <td>0</td>\n",
              "    </tr>\n",
              "    <tr>\n",
              "      <th>13</th>\n",
              "      <td>30</td>\n",
              "      <td>20</td>\n",
              "      <td>1</td>\n",
              "      <td>1</td>\n",
              "      <td>1</td>\n",
              "      <td>2</td>\n",
              "      <td>151</td>\n",
              "      <td>1991</td>\n",
              "      <td>14517.312945</td>\n",
              "      <td>1</td>\n",
              "      <td>0</td>\n",
              "      <td>0</td>\n",
              "    </tr>\n",
              "    <tr>\n",
              "      <th>14</th>\n",
              "      <td>53</td>\n",
              "      <td>9</td>\n",
              "      <td>1</td>\n",
              "      <td>0</td>\n",
              "      <td>5</td>\n",
              "      <td>8</td>\n",
              "      <td>57</td>\n",
              "      <td>119</td>\n",
              "      <td>6021.855422</td>\n",
              "      <td>0</td>\n",
              "      <td>0</td>\n",
              "      <td>0</td>\n",
              "    </tr>\n",
              "    <tr>\n",
              "      <th>15</th>\n",
              "      <td>53</td>\n",
              "      <td>9</td>\n",
              "      <td>1</td>\n",
              "      <td>0</td>\n",
              "      <td>4</td>\n",
              "      <td>5</td>\n",
              "      <td>57</td>\n",
              "      <td>283</td>\n",
              "      <td>2030.226316</td>\n",
              "      <td>0</td>\n",
              "      <td>0</td>\n",
              "      <td>0</td>\n",
              "    </tr>\n",
              "    <tr>\n",
              "      <th>16</th>\n",
              "      <td>53</td>\n",
              "      <td>9</td>\n",
              "      <td>1</td>\n",
              "      <td>0</td>\n",
              "      <td>2</td>\n",
              "      <td>3</td>\n",
              "      <td>57</td>\n",
              "      <td>252</td>\n",
              "      <td>10261.281609</td>\n",
              "      <td>0</td>\n",
              "      <td>0</td>\n",
              "      <td>0</td>\n",
              "    </tr>\n",
              "    <tr>\n",
              "      <th>17</th>\n",
              "      <td>53</td>\n",
              "      <td>9</td>\n",
              "      <td>1</td>\n",
              "      <td>0</td>\n",
              "      <td>5</td>\n",
              "      <td>14</td>\n",
              "      <td>57</td>\n",
              "      <td>808</td>\n",
              "      <td>6397.527174</td>\n",
              "      <td>0</td>\n",
              "      <td>0</td>\n",
              "      <td>0</td>\n",
              "    </tr>\n",
              "    <tr>\n",
              "      <th>18</th>\n",
              "      <td>40</td>\n",
              "      <td>1</td>\n",
              "      <td>1</td>\n",
              "      <td>1</td>\n",
              "      <td>1</td>\n",
              "      <td>14</td>\n",
              "      <td>25</td>\n",
              "      <td>1292</td>\n",
              "      <td>13817.045249</td>\n",
              "      <td>1</td>\n",
              "      <td>1</td>\n",
              "      <td>0</td>\n",
              "    </tr>\n",
              "    <tr>\n",
              "      <th>19</th>\n",
              "      <td>30</td>\n",
              "      <td>12</td>\n",
              "      <td>5</td>\n",
              "      <td>1</td>\n",
              "      <td>1</td>\n",
              "      <td>5</td>\n",
              "      <td>109</td>\n",
              "      <td>1075</td>\n",
              "      <td>11768.340127</td>\n",
              "      <td>1</td>\n",
              "      <td>0</td>\n",
              "      <td>1</td>\n",
              "    </tr>\n",
              "  </tbody>\n",
              "</table>\n",
              "</div>"
            ],
            "text/plain": [
              "    Age  Occupation  ...  City_Category_B  City_Category_C\n",
              "0    17          10  ...                0                0\n",
              "1    17          10  ...                0                0\n",
              "2    17          10  ...                0                0\n",
              "3    17          10  ...                0                0\n",
              "4    60          16  ...                0                1\n",
              "5    30          15  ...                0                0\n",
              "6    48           7  ...                1                0\n",
              "7    48           7  ...                1                0\n",
              "8    48           7  ...                1                0\n",
              "9    30          20  ...                0                0\n",
              "10   30          20  ...                0                0\n",
              "11   30          20  ...                0                0\n",
              "12   30          20  ...                0                0\n",
              "13   30          20  ...                0                0\n",
              "14   53           9  ...                0                0\n",
              "15   53           9  ...                0                0\n",
              "16   53           9  ...                0                0\n",
              "17   53           9  ...                0                0\n",
              "18   40           1  ...                1                0\n",
              "19   30          12  ...                0                1\n",
              "\n",
              "[20 rows x 12 columns]"
            ]
          },
          "execution_count": 19,
          "metadata": {
            "tags": []
          },
          "output_type": "execute_result"
        }
      ],
      "source": [
        "def remove_features(lista_features):\n",
        "    for i in lista_features:\n",
        "        df.drop(i, axis=1, inplace=True)\n",
        "remove_features(['User_ID','Product_ID','Product_Category_3'])\n",
        "df.head(n=20)"
      ]
    },
    {
      "cell_type": "markdown",
      "metadata": {
        "colab_type": "text",
        "id": "AmOsua7pQJTa"
      },
      "source": [
        "Verificando se todas as variáveis foram transformadas em numéricas."
      ]
    },
    {
      "cell_type": "code",
      "execution_count": 20,
      "metadata": {
        "colab": {
          "base_uri": "https://localhost:8080/",
          "height": 238
        },
        "colab_type": "code",
        "id": "8FzbKil_3NGN",
        "outputId": "5277deec-a308-459b-fe31-4ed19f92f2da"
      },
      "outputs": [
        {
          "data": {
            "text/plain": [
              "Age                             int64\n",
              "Occupation                      int64\n",
              "Stay_In_Current_City_Years      int64\n",
              "Marital_Status                  int64\n",
              "Product_Category_1              int64\n",
              "Product_Category_2              int64\n",
              "User_count                      int64\n",
              "Product_count                   int64\n",
              "Product_mean                  float64\n",
              "Gender_M                        uint8\n",
              "City_Category_B                 uint8\n",
              "City_Category_C                 uint8\n",
              "dtype: object"
            ]
          },
          "execution_count": 20,
          "metadata": {
            "tags": []
          },
          "output_type": "execute_result"
        }
      ],
      "source": [
        "df.dtypes"
      ]
    },
    {
      "cell_type": "markdown",
      "metadata": {
        "colab_type": "text",
        "id": "L7lZa7GTRc4I"
      },
      "source": [
        "Depois de fazer todas as transformações necessárias nos dados\n",
        " vamos dividir o dataset em dados de treino e teste novamente."
      ]
    },
    {
      "cell_type": "code",
      "execution_count": null,
      "metadata": {
        "colab": {},
        "colab_type": "code",
        "id": "KJ_kHPob3NGg"
      },
      "outputs": [],
      "source": [
        "X_train = df[:545915]\n",
        "X_test = df[545915:]"
      ]
    },
    {
      "cell_type": "markdown",
      "metadata": {
        "colab_type": "text",
        "id": "9H-V2V0UWR9b"
      },
      "source": [
        "## Dataset de treino"
      ]
    },
    {
      "cell_type": "code",
      "execution_count": 22,
      "metadata": {
        "colab": {
          "base_uri": "https://localhost:8080/",
          "height": 224
        },
        "colab_type": "code",
        "id": "VfR9iin83NGk",
        "outputId": "e9bcd2fd-b71e-46a2-efbd-9ed8abc0287a"
      },
      "outputs": [
        {
          "data": {
            "text/html": [
              "<div>\n",
              "<style scoped>\n",
              "    .dataframe tbody tr th:only-of-type {\n",
              "        vertical-align: middle;\n",
              "    }\n",
              "\n",
              "    .dataframe tbody tr th {\n",
              "        vertical-align: top;\n",
              "    }\n",
              "\n",
              "    .dataframe thead th {\n",
              "        text-align: right;\n",
              "    }\n",
              "</style>\n",
              "<table border=\"1\" class=\"dataframe\">\n",
              "  <thead>\n",
              "    <tr style=\"text-align: right;\">\n",
              "      <th></th>\n",
              "      <th>Age</th>\n",
              "      <th>Occupation</th>\n",
              "      <th>Stay_In_Current_City_Years</th>\n",
              "      <th>Marital_Status</th>\n",
              "      <th>Product_Category_1</th>\n",
              "      <th>Product_Category_2</th>\n",
              "      <th>User_count</th>\n",
              "      <th>Product_count</th>\n",
              "      <th>Product_mean</th>\n",
              "      <th>Gender_M</th>\n",
              "      <th>City_Category_B</th>\n",
              "      <th>City_Category_C</th>\n",
              "    </tr>\n",
              "  </thead>\n",
              "  <tbody>\n",
              "    <tr>\n",
              "      <th>0</th>\n",
              "      <td>17</td>\n",
              "      <td>10</td>\n",
              "      <td>2</td>\n",
              "      <td>0</td>\n",
              "      <td>3</td>\n",
              "      <td>-999</td>\n",
              "      <td>46</td>\n",
              "      <td>344</td>\n",
              "      <td>11870.863436</td>\n",
              "      <td>0</td>\n",
              "      <td>0</td>\n",
              "      <td>0</td>\n",
              "    </tr>\n",
              "    <tr>\n",
              "      <th>1</th>\n",
              "      <td>17</td>\n",
              "      <td>10</td>\n",
              "      <td>2</td>\n",
              "      <td>0</td>\n",
              "      <td>1</td>\n",
              "      <td>6</td>\n",
              "      <td>46</td>\n",
              "      <td>845</td>\n",
              "      <td>16304.030981</td>\n",
              "      <td>0</td>\n",
              "      <td>0</td>\n",
              "      <td>0</td>\n",
              "    </tr>\n",
              "    <tr>\n",
              "      <th>2</th>\n",
              "      <td>17</td>\n",
              "      <td>10</td>\n",
              "      <td>2</td>\n",
              "      <td>0</td>\n",
              "      <td>12</td>\n",
              "      <td>-999</td>\n",
              "      <td>46</td>\n",
              "      <td>150</td>\n",
              "      <td>1237.892157</td>\n",
              "      <td>0</td>\n",
              "      <td>0</td>\n",
              "      <td>0</td>\n",
              "    </tr>\n",
              "    <tr>\n",
              "      <th>3</th>\n",
              "      <td>17</td>\n",
              "      <td>10</td>\n",
              "      <td>2</td>\n",
              "      <td>0</td>\n",
              "      <td>12</td>\n",
              "      <td>14</td>\n",
              "      <td>46</td>\n",
              "      <td>496</td>\n",
              "      <td>1455.140762</td>\n",
              "      <td>0</td>\n",
              "      <td>0</td>\n",
              "      <td>0</td>\n",
              "    </tr>\n",
              "    <tr>\n",
              "      <th>4</th>\n",
              "      <td>60</td>\n",
              "      <td>16</td>\n",
              "      <td>5</td>\n",
              "      <td>0</td>\n",
              "      <td>8</td>\n",
              "      <td>-999</td>\n",
              "      <td>106</td>\n",
              "      <td>283</td>\n",
              "      <td>7692.763547</td>\n",
              "      <td>1</td>\n",
              "      <td>0</td>\n",
              "      <td>1</td>\n",
              "    </tr>\n",
              "  </tbody>\n",
              "</table>\n",
              "</div>"
            ],
            "text/plain": [
              "   Age  Occupation  ...  City_Category_B  City_Category_C\n",
              "0   17          10  ...                0                0\n",
              "1   17          10  ...                0                0\n",
              "2   17          10  ...                0                0\n",
              "3   17          10  ...                0                0\n",
              "4   60          16  ...                0                1\n",
              "\n",
              "[5 rows x 12 columns]"
            ]
          },
          "execution_count": 22,
          "metadata": {
            "tags": []
          },
          "output_type": "execute_result"
        }
      ],
      "source": [
        "X_train.head()"
      ]
    },
    {
      "cell_type": "markdown",
      "metadata": {
        "colab_type": "text",
        "id": "m8NTvKMKWUe6"
      },
      "source": [
        "## Dataset de teste"
      ]
    },
    {
      "cell_type": "code",
      "execution_count": 23,
      "metadata": {
        "colab": {
          "base_uri": "https://localhost:8080/",
          "height": 224
        },
        "colab_type": "code",
        "id": "L74YgMLm3NGn",
        "outputId": "0b5adc7b-cfa4-4c26-a428-185f2ff4e01e"
      },
      "outputs": [
        {
          "data": {
            "text/html": [
              "<div>\n",
              "<style scoped>\n",
              "    .dataframe tbody tr th:only-of-type {\n",
              "        vertical-align: middle;\n",
              "    }\n",
              "\n",
              "    .dataframe tbody tr th {\n",
              "        vertical-align: top;\n",
              "    }\n",
              "\n",
              "    .dataframe thead th {\n",
              "        text-align: right;\n",
              "    }\n",
              "</style>\n",
              "<table border=\"1\" class=\"dataframe\">\n",
              "  <thead>\n",
              "    <tr style=\"text-align: right;\">\n",
              "      <th></th>\n",
              "      <th>Age</th>\n",
              "      <th>Occupation</th>\n",
              "      <th>Stay_In_Current_City_Years</th>\n",
              "      <th>Marital_Status</th>\n",
              "      <th>Product_Category_1</th>\n",
              "      <th>Product_Category_2</th>\n",
              "      <th>User_count</th>\n",
              "      <th>Product_count</th>\n",
              "      <th>Product_mean</th>\n",
              "      <th>Gender_M</th>\n",
              "      <th>City_Category_B</th>\n",
              "      <th>City_Category_C</th>\n",
              "    </tr>\n",
              "  </thead>\n",
              "  <tbody>\n",
              "    <tr>\n",
              "      <th>545915</th>\n",
              "      <td>48</td>\n",
              "      <td>7</td>\n",
              "      <td>2</td>\n",
              "      <td>1</td>\n",
              "      <td>1</td>\n",
              "      <td>11</td>\n",
              "      <td>14</td>\n",
              "      <td>1333</td>\n",
              "      <td>15781.118590</td>\n",
              "      <td>1</td>\n",
              "      <td>1</td>\n",
              "      <td>0</td>\n",
              "    </tr>\n",
              "    <tr>\n",
              "      <th>545916</th>\n",
              "      <td>30</td>\n",
              "      <td>17</td>\n",
              "      <td>0</td>\n",
              "      <td>0</td>\n",
              "      <td>3</td>\n",
              "      <td>5</td>\n",
              "      <td>84</td>\n",
              "      <td>371</td>\n",
              "      <td>11746.665354</td>\n",
              "      <td>1</td>\n",
              "      <td>0</td>\n",
              "      <td>1</td>\n",
              "    </tr>\n",
              "    <tr>\n",
              "      <th>545917</th>\n",
              "      <td>40</td>\n",
              "      <td>1</td>\n",
              "      <td>5</td>\n",
              "      <td>1</td>\n",
              "      <td>5</td>\n",
              "      <td>14</td>\n",
              "      <td>323</td>\n",
              "      <td>217</td>\n",
              "      <td>5731.338028</td>\n",
              "      <td>0</td>\n",
              "      <td>1</td>\n",
              "      <td>0</td>\n",
              "    </tr>\n",
              "    <tr>\n",
              "      <th>545918</th>\n",
              "      <td>40</td>\n",
              "      <td>1</td>\n",
              "      <td>5</td>\n",
              "      <td>1</td>\n",
              "      <td>4</td>\n",
              "      <td>9</td>\n",
              "      <td>323</td>\n",
              "      <td>23</td>\n",
              "      <td>1943.266667</td>\n",
              "      <td>0</td>\n",
              "      <td>1</td>\n",
              "      <td>0</td>\n",
              "    </tr>\n",
              "    <tr>\n",
              "      <th>545919</th>\n",
              "      <td>30</td>\n",
              "      <td>1</td>\n",
              "      <td>1</td>\n",
              "      <td>0</td>\n",
              "      <td>4</td>\n",
              "      <td>5</td>\n",
              "      <td>109</td>\n",
              "      <td>781</td>\n",
              "      <td>2585.590829</td>\n",
              "      <td>0</td>\n",
              "      <td>0</td>\n",
              "      <td>1</td>\n",
              "    </tr>\n",
              "  </tbody>\n",
              "</table>\n",
              "</div>"
            ],
            "text/plain": [
              "        Age  Occupation  ...  City_Category_B  City_Category_C\n",
              "545915   48           7  ...                1                0\n",
              "545916   30          17  ...                0                1\n",
              "545917   40           1  ...                1                0\n",
              "545918   40           1  ...                1                0\n",
              "545919   30           1  ...                0                1\n",
              "\n",
              "[5 rows x 12 columns]"
            ]
          },
          "execution_count": 23,
          "metadata": {
            "tags": []
          },
          "output_type": "execute_result"
        }
      ],
      "source": [
        "X_test.head()"
      ]
    },
    {
      "cell_type": "code",
      "execution_count": 24,
      "metadata": {
        "colab": {
          "base_uri": "https://localhost:8080/",
          "height": 34
        },
        "colab_type": "code",
        "id": "eA1Q89VA3NGq",
        "outputId": "d1e40072-681d-4dc6-dfde-da7de8a259e7"
      },
      "outputs": [
        {
          "data": {
            "text/plain": [
              "((545915, 12), (233599, 12))"
            ]
          },
          "execution_count": 24,
          "metadata": {
            "tags": []
          },
          "output_type": "execute_result"
        }
      ],
      "source": [
        "X_train.shape, X_test.shape"
      ]
    },
    {
      "cell_type": "code",
      "execution_count": 25,
      "metadata": {
        "colab": {
          "base_uri": "https://localhost:8080/",
          "height": 34
        },
        "colab_type": "code",
        "id": "sJchOKZQ3NG0",
        "outputId": "424506cf-ba53-4d5c-a725-c1f48cfef7cd"
      },
      "outputs": [
        {
          "data": {
            "text/plain": [
              "array([ 8370, 15200,  1422, ...,  7852,  7159, 11640])"
            ]
          },
          "execution_count": 25,
          "metadata": {
            "tags": []
          },
          "output_type": "execute_result"
        }
      ],
      "source": [
        "target.values"
      ]
    },
    {
      "cell_type": "markdown",
      "metadata": {
        "colab_type": "text",
        "id": "VUMLvznbIP-9"
      },
      "source": [
        "# Avaliação dos Algoritmos"
      ]
    },
    {
      "cell_type": "markdown",
      "metadata": {
        "colab_type": "text",
        "id": "C53j9ajWL1bc"
      },
      "source": [
        "Vamos criar pipelines afim de automatizar o processo de treinamento dos nossos modelos e aplicar a **Standartization** (padronização) ao conjunto de dados (colocando-os na mesma escala)\n",
        "Nesta técnica, os dados serão transformados de modo que estejam com uma distrbuição normal, com média igual a zero e\n",
        "desvio padrão igual a 1."
      ]
    },
    {
      "cell_type": "code",
      "execution_count": 26,
      "metadata": {
        "colab": {
          "base_uri": "https://localhost:8080/",
          "height": 85
        },
        "colab_type": "code",
        "id": "Ko9fElTo3NHM",
        "outputId": "631a356a-2fc1-48d7-84c9-52cf741df5fe"
      },
      "outputs": [
        {
          "name": "stdout",
          "output_type": "stream",
          "text": [
            "Scaled-LR: 2654.130781 (5.773837)\n",
            "Scaled-LASSO: 2654.131221 (5.779685)\n",
            "Scaled-EN: 3002.637471 (7.872833)\n",
            "Scaled-CART: 3676.055662 (4.574383)\n"
          ]
        }
      ],
      "source": [
        "pipelines = []\n",
        "pipelines.append(('Scaled-LR', Pipeline([('Scaler', StandardScaler()),('LR', LinearRegression())])))\n",
        "pipelines.append(('Scaled-LASSO', Pipeline([('Scaler', StandardScaler()),('LASSO', Lasso())])))\n",
        "pipelines.append(('Scaled-EN', Pipeline([('Scaler', StandardScaler()),('EN', ElasticNet())])))\n",
        "pipelines.append(('Scaled-CART', Pipeline([('Scaler', StandardScaler()),('CART', DecisionTreeRegressor())])))\n",
        "resultados = []\n",
        "nomes = []\n",
        "\n",
        "# Percorrendo cada um dos modelos\n",
        "for nome, modelo in pipelines:\n",
        "    kfold = model_selection.KFold(n_splits=5, shuffle=True, random_state = 7)\n",
        "    cross_val_result = model_selection.cross_val_score(modelo, X_train, target, cv = kfold, scoring = 'neg_mean_squared_error')\n",
        "    resultados.append(cross_val_result)\n",
        "    nomes.append(nome)\n",
        "    texto = \"%s: %f (%f)\" % (nome, np.sqrt(np.abs(cross_val_result)).mean(), np.sqrt(-cross_val_result).std())\n",
        "    print(texto)"
      ]
    },
    {
      "cell_type": "markdown",
      "metadata": {
        "colab_type": "text",
        "id": "xTxUtrYZMnfy"
      },
      "source": [
        "Vamos ver se conseguimos melhores resultados com os métodos Ensemble."
      ]
    },
    {
      "cell_type": "code",
      "execution_count": 27,
      "metadata": {
        "colab": {
          "base_uri": "https://localhost:8080/",
          "height": 102
        },
        "colab_type": "code",
        "id": "Duasg54x3NHc",
        "outputId": "8ef02009-cfac-4848-8802-02a6b3b7af83"
      },
      "outputs": [
        {
          "name": "stdout",
          "output_type": "stream",
          "text": [
            "Scaled-XGBoost: 2638.091322 (5.442491)\n",
            "Scaled-AB: 2785.758834 (12.127388)\n",
            "Scaled-GBM: 2638.022172 (5.470119)\n",
            "Scaled-RF: 2738.599549 (7.288163)\n",
            "Scaled-ET: 2847.718168 (8.866920)\n"
          ]
        }
      ],
      "source": [
        "ensembles = []\n",
        "ensembles.append(('Scaled-XGBoost', Pipeline([('Scaler', StandardScaler()),('XG', XGBRegressor(objective ='reg:squarederror'))])))\n",
        "ensembles.append(('Scaled-AB', Pipeline([('Scaler', StandardScaler()),('AB', AdaBoostRegressor())])))\n",
        "ensembles.append(('Scaled-GBM', Pipeline([('Scaler', StandardScaler()),('GBM', GradientBoostingRegressor())])))\n",
        "ensembles.append(('Scaled-RF', Pipeline([('Scaler', StandardScaler()),('RF', RandomForestRegressor())])))\n",
        "ensembles.append(('Scaled-ET', Pipeline([('Scaler', StandardScaler()),('ET', ExtraTreesRegressor())])))\n",
        "resultados = []\n",
        "nomes = []\n",
        "\n",
        "# Percorrendo cada um dos modelos\n",
        "for nome, modelo in ensembles:\n",
        "    kfold = model_selection.KFold(n_splits=5, shuffle=True, random_state = 7)\n",
        "    cross_val_result = model_selection.cross_val_score(modelo, X_train, target, cv = kfold, scoring = 'neg_mean_squared_error')\n",
        "    resultados.append(cross_val_result)\n",
        "    nomes.append(nome)\n",
        "    texto = \"%s: %f (%f)\" % (nome, np.sqrt(np.abs(cross_val_result)).mean(), np.sqrt(-cross_val_result).std())\n",
        "    print(texto)"
      ]
    },
    {
      "cell_type": "markdown",
      "metadata": {
        "colab_type": "text",
        "id": "xBZqGDLSB_m0"
      },
      "source": [
        "O GradientBoostingRegressor e o XGBRegressor apresentaram a menor taxa de erro entre os modelos. De acordo com esse site https://www.vooo.pro/insights/um-tutorial-completo-sobre-a-modelagem-baseada-em-tree-arvore-do-zero-em-r-python/, o XGBRegressor possui algumas vantagens, nele você também encontra uma explicação e exemplos sobre os parâmetros que iremos utilizar, dito isso vamos otimizar esse modelo com o ajuste dos parâmetros."
      ]
    },
    {
      "cell_type": "markdown",
      "metadata": {
        "colab_type": "text",
        "id": "z_2W4pBeJFb4"
      },
      "source": [
        "Vamos agora fazer o tuning do modelo utilizando o RandomizedSearchCV, que de acordo com a documentação do scikit-learn tem o tempo de execução  \n",
        "drasticamente menor que o GridSearchCV. Foi testado vários valores para os parâmetros e deixei aqui só os valores que apareceram com mais frequência (pra ajudar a diminuir o tempo de processamento)."
      ]
    },
    {
      "cell_type": "code",
      "execution_count": 28,
      "metadata": {
        "colab": {
          "base_uri": "https://localhost:8080/",
          "height": 258
        },
        "colab_type": "code",
        "id": "Bv8-7lsJjL2C",
        "outputId": "37d66960-9eec-4ea7-e1fc-788b7c747865"
      },
      "outputs": [
        {
          "name": "stdout",
          "output_type": "stream",
          "text": [
            "Grid scores on development set:\n",
            "mean:-6397452.96592,std:21979.36254,params:{'n_estimators': 200, 'min_child_weight': 5, 'max_depth': 7, 'gamma': 0.3}\n",
            "mean:-6227883.27624,std:21787.09247,params:{'n_estimators': 200, 'min_child_weight': 7, 'max_depth': 9, 'gamma': 0.3}\n",
            "mean:-6410785.51822,std:26743.96619,params:{'n_estimators': 100, 'min_child_weight': 7, 'max_depth': 9, 'gamma': 0.1}\n",
            "mean:-6140429.36189,std:21939.04151,params:{'n_estimators': 400, 'min_child_weight': 5, 'max_depth': 9, 'gamma': 0.1}\n",
            "mean:-6303622.19197,std:16272.26487,params:{'n_estimators': 300, 'min_child_weight': 5, 'max_depth': 7, 'gamma': 0.3}\n",
            "mean:-6410785.51822,std:26743.96619,params:{'n_estimators': 100, 'min_child_weight': 7, 'max_depth': 9, 'gamma': 0.3}\n",
            "mean:-6228978.25806,std:18539.17347,params:{'n_estimators': 200, 'min_child_weight': 5, 'max_depth': 9, 'gamma': 0.3}\n",
            "mean:-6604243.9681,std:28666.6868,params:{'n_estimators': 100, 'min_child_weight': 5, 'max_depth': 7, 'gamma': 0.1}\n",
            "mean:-6417770.80977,std:32433.47297,params:{'n_estimators': 100, 'min_child_weight': 5, 'max_depth': 9, 'gamma': 0.3}\n",
            "mean:-6395998.84415,std:16200.11939,params:{'n_estimators': 200, 'min_child_weight': 7, 'max_depth': 7, 'gamma': 0.1}\n",
            "\n",
            "Melhor parâmetro:{'n_estimators': 400, 'min_child_weight': 5, 'max_depth': 9, 'gamma': 0.1}, Score:-6140429.361890385\n"
          ]
        }
      ],
      "source": [
        "# Definindo a escala\n",
        "scaler = StandardScaler().fit(X_train)\n",
        "rescaledX = scaler.transform(X_train)\n",
        "\n",
        "# Testando valores para o estimador.\n",
        "valores_grid  = {'n_estimators' : [100,200,300,400], 'max_depth' : [7,9],'min_child_weight': [5,7], 'gamma': [0.1,0.3]}\n",
        "\n",
        "# Criando o modelo\n",
        "modelo = XGBRegressor(objective ='reg:squarederror', n_jobs=4)\n",
        "\n",
        "# Definindo k\n",
        "kfold = model_selection.KFold(5, True, random_state = 7)\n",
        "\n",
        "# Testando a combinação de parâmetros\n",
        "grid = RandomizedSearchCV(modelo, valores_grid, cv = kfold, scoring = 'neg_mean_squared_error')\n",
        "grid_result = grid.fit(rescaledX, target)\n",
        "\n",
        "# Print do resultado\n",
        "print(\"Grid scores on development set:\")\n",
        "means = grid.cv_results_['mean_test_score'].round(5)\n",
        "stds = grid.cv_results_['std_test_score'].round(5)\n",
        "\n",
        "for mean, std, params in zip((means), stds, grid.cv_results_['params']):\n",
        "    print(f'mean:{mean},std:{std},params:{params}')\n",
        "print()\n",
        "print(f'Melhor parâmetro:{grid.best_params_}, Score:{grid.best_score_}')"
      ]
    },
    {
      "cell_type": "markdown",
      "metadata": {
        "colab_type": "text",
        "id": "7UGXrbfZFbAQ"
      },
      "source": [
        "**É claro que não me deixei levar pelas vantagens do XGBRegressor e também fiz o tuning do  GradientBoostingRegressor, e de fato obtive uma melhor pontuação com o XGBRegressor. \n",
        "Como o processo é um pouco demorado optei por mostrar somente um dos processos.**"
      ]
    },
    {
      "cell_type": "markdown",
      "metadata": {
        "colab_type": "text",
        "id": "ZrMMF_J3hHId"
      },
      "source": [
        "# Preparando a versão final do modelo"
      ]
    },
    {
      "cell_type": "code",
      "execution_count": 30,
      "metadata": {
        "colab": {
          "base_uri": "https://localhost:8080/",
          "height": 136
        },
        "colab_type": "code",
        "id": "5eD3ZzpKKDdS",
        "outputId": "90bd376e-ceee-4d68-b7b4-81d5e38fac6a"
      },
      "outputs": [
        {
          "data": {
            "text/plain": [
              "XGBRegressor(base_score=0.5, booster='gbtree', colsample_bylevel=1,\n",
              "             colsample_bynode=1, colsample_bytree=1, gamma=0.1,\n",
              "             importance_type='gain', learning_rate=0.1, max_delta_step=0,\n",
              "             max_depth=9, min_child_weight=5, missing=None, n_estimators=400,\n",
              "             n_jobs=4, nthread=None, objective='reg:squarederror',\n",
              "             random_state=7, reg_alpha=0, reg_lambda=1, scale_pos_weight=1,\n",
              "             seed=None, silent=None, subsample=1, verbosity=1)"
            ]
          },
          "execution_count": 30,
          "metadata": {
            "tags": []
          },
          "output_type": "execute_result"
        }
      ],
      "source": [
        "scaler = StandardScaler().fit(X_train)\n",
        "rescaledX = scaler.transform(X_train)\n",
        "modelo_xbg =  XGBRegressor(objective ='reg:squarederror', n_estimators = 400,\n",
        "                                                          min_child_weight=5,\n",
        "                                                          max_depth=9, \n",
        "                                                          gamma=0.1, \n",
        "                                                          random_state=7,\n",
        "                                                          n_jobs=4)\n",
        "                                                          \n",
        "modelo_xbg.fit(rescaledX, target)"
      ]
    },
    {
      "cell_type": "markdown",
      "metadata": {
        "colab_type": "text",
        "id": "jx4KNfIyhSuF"
      },
      "source": [
        "# Aplicando o modelo aos dados de teste"
      ]
    },
    {
      "cell_type": "code",
      "execution_count": 31,
      "metadata": {
        "colab": {
          "base_uri": "https://localhost:8080/",
          "height": 51
        },
        "colab_type": "code",
        "id": "yw5GRiOCRTDu",
        "outputId": "d4d961e6-1ea6-4ce9-f8b3-417328f37a6b"
      },
      "outputs": [
        {
          "data": {
            "text/plain": [
              "array([14411.546 , 11803.302 ,  6551.573 , ...,  9042.282 , 16667.99  ,\n",
              "        2944.9668], dtype=float32)"
            ]
          },
          "execution_count": 31,
          "metadata": {
            "tags": []
          },
          "output_type": "execute_result"
        }
      ],
      "source": [
        "rescaledValidationX = scaler.transform(X_test)\n",
        "previsoes = modelo_xbg.predict(rescaledValidationX)\n",
        "previsoes"
      ]
    },
    {
      "cell_type": "markdown",
      "metadata": {
        "colab_type": "text",
        "id": "4TnmoEkWhjnY"
      },
      "source": [
        "# Visualizando os resultados"
      ]
    },
    {
      "cell_type": "code",
      "execution_count": 32,
      "metadata": {
        "colab": {
          "base_uri": "https://localhost:8080/",
          "height": 204
        },
        "colab_type": "code",
        "id": "OlS5PYhF0Vmo",
        "outputId": "76e24e24-3137-422b-f6c2-44267639a312"
      },
      "outputs": [
        {
          "data": {
            "text/html": [
              "<div>\n",
              "<style scoped>\n",
              "    .dataframe tbody tr th:only-of-type {\n",
              "        vertical-align: middle;\n",
              "    }\n",
              "\n",
              "    .dataframe tbody tr th {\n",
              "        vertical-align: top;\n",
              "    }\n",
              "\n",
              "    .dataframe thead th {\n",
              "        text-align: right;\n",
              "    }\n",
              "</style>\n",
              "<table border=\"1\" class=\"dataframe\">\n",
              "  <thead>\n",
              "    <tr style=\"text-align: right;\">\n",
              "      <th></th>\n",
              "      <th>User_ID</th>\n",
              "      <th>Product_ID</th>\n",
              "      <th>Purchase</th>\n",
              "    </tr>\n",
              "  </thead>\n",
              "  <tbody>\n",
              "    <tr>\n",
              "      <th>0</th>\n",
              "      <td>1000004</td>\n",
              "      <td>P00128942</td>\n",
              "      <td>14411.549805</td>\n",
              "    </tr>\n",
              "    <tr>\n",
              "      <th>1</th>\n",
              "      <td>1000009</td>\n",
              "      <td>P00113442</td>\n",
              "      <td>11803.299805</td>\n",
              "    </tr>\n",
              "    <tr>\n",
              "      <th>2</th>\n",
              "      <td>1000010</td>\n",
              "      <td>P00288442</td>\n",
              "      <td>6551.569824</td>\n",
              "    </tr>\n",
              "    <tr>\n",
              "      <th>3</th>\n",
              "      <td>1000010</td>\n",
              "      <td>P00145342</td>\n",
              "      <td>2945.649902</td>\n",
              "    </tr>\n",
              "    <tr>\n",
              "      <th>4</th>\n",
              "      <td>1000011</td>\n",
              "      <td>P00053842</td>\n",
              "      <td>2615.340088</td>\n",
              "    </tr>\n",
              "  </tbody>\n",
              "</table>\n",
              "</div>"
            ],
            "text/plain": [
              "   User_ID Product_ID      Purchase\n",
              "0  1000004  P00128942  14411.549805\n",
              "1  1000009  P00113442  11803.299805\n",
              "2  1000010  P00288442   6551.569824\n",
              "3  1000010  P00145342   2945.649902\n",
              "4  1000011  P00053842   2615.340088"
            ]
          },
          "execution_count": 32,
          "metadata": {
            "tags": []
          },
          "output_type": "execute_result"
        }
      ],
      "source": [
        "submission['User_ID','Product_ID'] = np.around(previsoes,2)\n",
        "submission = submission.rename(columns={('User_ID','Product_ID'):'Purchase'})\n",
        "submission.head()"
      ]
    },
    {
      "cell_type": "markdown",
      "metadata": {
        "colab_type": "text",
        "id": "C1qvcYhHhrQF"
      },
      "source": [
        "# Submissão"
      ]
    },
    {
      "cell_type": "code",
      "execution_count": null,
      "metadata": {
        "colab": {},
        "colab_type": "code",
        "id": "UlxmlO9X7chA"
      },
      "outputs": [],
      "source": [
        "submission.to_csv(\"sample_submission_LMg97w5.csv\", index=False)"
      ]
    },
    {
      "cell_type": "markdown",
      "metadata": {
        "colab_type": "text",
        "id": "1MQmT_gIDyEy"
      },
      "source": [
        "**Estou no 257° lugar com o RMSE de 2485.1888593737,  \"Em cada experiência se aprende uma lição\"**\n"
      ]
    }
  ],
  "metadata": {
    "accelerator": "GPU",
    "colab": {
      "collapsed_sections": [],
      "machine_shape": "hm",
      "name": "Black Friday_modelo.ipynb",
      "provenance": [],
      "toc_visible": true
    },
    "kernelspec": {
      "display_name": "Python 3",
      "name": "python3"
    },
    "language_info": {
      "codemirror_mode": {
        "name": "ipython",
        "version": 3
      },
      "file_extension": ".py",
      "mimetype": "text/x-python",
      "name": "python",
      "nbconvert_exporter": "python",
      "pygments_lexer": "ipython3",
      "version": "3.7.4"
    }
  },
  "nbformat": 4,
  "nbformat_minor": 0
}
