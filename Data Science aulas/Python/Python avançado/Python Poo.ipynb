{
 "cells": [
  {
   "cell_type": "markdown",
   "metadata": {},
   "source": [
    "# PYTHON ORIENTADO A OBJETOS"
   ]
  },
  {
   "cell_type": "markdown",
   "metadata": {},
   "source": [
    "- A definição do Wikipedia é bem precisa para este tema, segundo o que consta no site, a programação orientada a objetos – OOP, em inglês – é “um paradigma de programação baseado no conceito de “objetos”, que podem conter dados na forma de campos, também conhecidos como atributos, e códigos, na forma de procedimentos, também conhecidos como métodos”. Resumindo: programação orientada a objetos é uma forma de estruturar seu programa agrupando propriedades e comportamentos (em objetos).\n",
    "- E o que seriam esses objetos? Basicamente, qualquer coisa. Pode ser uma pessoa, e aí suas propriedades poderiam ser cor do cabelo, cor dos olhos e altura. E seu comportamento poderia ser comer, andar e pensar.\n",
    "- O que você é acostumado a ver no www.estatsite.com.br é o que chamamos de programação procedural. Ali, a gente estrutura o código em passos, como se fosse uma receita de bolo.\n",
    "\n",
    "Agora, vamos falar de classes!"
   ]
  },
  {
   "cell_type": "markdown",
   "metadata": {},
   "source": [
    "# CLASSES"
   ]
  },
  {
   "cell_type": "markdown",
   "metadata": {},
   "source": [
    "### Classe 1: Exemplo mais simples de todos"
   ]
  },
  {
   "cell_type": "code",
   "execution_count": null,
   "metadata": {},
   "outputs": [],
   "source": [
    "class FazNada:\n",
    "    pass"
   ]
  },
  {
   "cell_type": "code",
   "execution_count": null,
   "metadata": {},
   "outputs": [],
   "source": [
    "objeto_1 = FazNada()\n",
    "objeto_2 = FazNada()"
   ]
  },
  {
   "cell_type": "code",
   "execution_count": null,
   "metadata": {},
   "outputs": [],
   "source": [
    "objeto_1"
   ]
  },
  {
   "cell_type": "markdown",
   "metadata": {},
   "source": [
    "### Classe 2: Exemplo com atributos"
   ]
  },
  {
   "cell_type": "code",
   "execution_count": null,
   "metadata": {},
   "outputs": [],
   "source": [
    "class Pessoa():\n",
    "    def __init__(self, nome, cor_dos_olhos, cor_do_cabelo, altura):\n",
    "        self.nome = nome\n",
    "        self.cor_dos_olhos = cor_dos_olhos\n",
    "        self.cor_do_cabelo = cor_do_cabelo\n",
    "        self.altura = altura"
   ]
  },
  {
   "cell_type": "code",
   "execution_count": null,
   "metadata": {},
   "outputs": [],
   "source": [
    "pessoa_1 = Pessoa(\"Marcos\",  \"azul\", \"loiro\", 1.80)\n",
    "pessoa_2 = Pessoa(\"Patricia\", \"castanho\", \"preto\", 1.77)"
   ]
  },
  {
   "cell_type": "code",
   "execution_count": null,
   "metadata": {},
   "outputs": [],
   "source": [
    "pessoa_1"
   ]
  },
  {
   "cell_type": "code",
   "execution_count": null,
   "metadata": {},
   "outputs": [],
   "source": [
    "pessoa_1.cor_dos_olhos"
   ]
  },
  {
   "cell_type": "code",
   "execution_count": null,
   "metadata": {},
   "outputs": [],
   "source": [
    "pessoa_2.cor_dos_olhos"
   ]
  },
  {
   "cell_type": "markdown",
   "metadata": {},
   "source": [
    "### Classe 3: Exemplo com atributo e método"
   ]
  },
  {
   "cell_type": "code",
   "execution_count": null,
   "metadata": {},
   "outputs": [],
   "source": [
    "# Cria uma classe com para os serviços\n",
    "class Service():\n",
    "    def __init__(self, name, duration_in_hours, price):\n",
    "        self.name = name\n",
    "        self.duration_in_hours = duration_in_hours\n",
    "        self.price = price\n",
    "        \n",
    "    def change_price(self, new_price):\n",
    "        self.price = new_price\n",
    "        \n",
    "    def discount(self, discount):\n",
    "        return self.price*(1-discount)"
   ]
  },
  {
   "cell_type": "code",
   "execution_count": null,
   "metadata": {},
   "outputs": [],
   "source": [
    "service_1 = Service(\"marceneiro\", 3, 50)"
   ]
  },
  {
   "cell_type": "code",
   "execution_count": null,
   "metadata": {},
   "outputs": [],
   "source": [
    "service_1.name"
   ]
  },
  {
   "cell_type": "code",
   "execution_count": null,
   "metadata": {},
   "outputs": [],
   "source": [
    "service_1.price"
   ]
  },
  {
   "cell_type": "code",
   "execution_count": null,
   "metadata": {},
   "outputs": [],
   "source": [
    "service_1.price = 30"
   ]
  },
  {
   "cell_type": "code",
   "execution_count": null,
   "metadata": {},
   "outputs": [],
   "source": [
    "service_1.price"
   ]
  },
  {
   "cell_type": "code",
   "execution_count": null,
   "metadata": {},
   "outputs": [],
   "source": [
    "service_1.change_price(70)"
   ]
  },
  {
   "cell_type": "code",
   "execution_count": null,
   "metadata": {},
   "outputs": [],
   "source": [
    "service_1.price"
   ]
  },
  {
   "cell_type": "code",
   "execution_count": null,
   "metadata": {},
   "outputs": [],
   "source": [
    "service_1.discount(0.5)"
   ]
  },
  {
   "cell_type": "markdown",
   "metadata": {},
   "source": [
    "# HERANÇA (INHERITANCE)"
   ]
  },
  {
   "cell_type": "code",
   "execution_count": null,
   "metadata": {},
   "outputs": [],
   "source": [
    "class PublicService(Service):\n",
    "    pass"
   ]
  },
  {
   "cell_type": "code",
   "execution_count": null,
   "metadata": {},
   "outputs": [],
   "source": [
    "pub_service_1 = PublicService(\"carteiro\", 8, 120)"
   ]
  },
  {
   "cell_type": "code",
   "execution_count": null,
   "metadata": {},
   "outputs": [],
   "source": [
    "pub_service_1.price"
   ]
  },
  {
   "cell_type": "code",
   "execution_count": null,
   "metadata": {},
   "outputs": [],
   "source": [
    "pub_service_1.change_price(100)"
   ]
  },
  {
   "cell_type": "code",
   "execution_count": null,
   "metadata": {},
   "outputs": [],
   "source": [
    "pub_service_1.price"
   ]
  },
  {
   "cell_type": "markdown",
   "metadata": {},
   "source": [
    "# TESTE COM ASSERT"
   ]
  },
  {
   "cell_type": "markdown",
   "metadata": {},
   "source": [
    "<img src='assert_programiz.jpg'>"
   ]
  },
  {
   "cell_type": "code",
   "execution_count": null,
   "metadata": {},
   "outputs": [],
   "source": [
    "def soma(a, b):\n",
    "    return a-b"
   ]
  },
  {
   "cell_type": "code",
   "execution_count": null,
   "metadata": {},
   "outputs": [],
   "source": [
    "assert soma(1,0)==1, \"Soma 1 e 0 retornou erro\"\n",
    "assert soma(1,3)==4, \"Soma 1 e 3 retornou erro\""
   ]
  },
  {
   "cell_type": "code",
   "execution_count": null,
   "metadata": {},
   "outputs": [],
   "source": [
    "def valida_email(email):\n",
    "    if '@' not in email:\n",
    "        return False\n",
    "    if '@@' in email:\n",
    "        return False\n",
    "    else:\n",
    "        return True"
   ]
  },
  {
   "cell_type": "code",
   "execution_count": null,
   "metadata": {},
   "outputs": [],
   "source": [
    "assert valida_email(\"yukio@hotmail.com\")==True\n",
    "assert valida_email(\"yuki@@hotmail.com\")==False, \"Dois arrobas não está funcionando\"\n",
    "assert valida_email(\"yukio  @hotmail.com\")==False, \"Espaço em branco não está funcionando\"\n",
    "assert valida_email(\"yukio!???>LFGK@hotmail.com\")==False, \"Caractere especial não está funcionando\""
   ]
  },
  {
   "cell_type": "code",
   "execution_count": null,
   "metadata": {},
   "outputs": [],
   "source": [
    "# Cria uma classe com para os serviços\n",
    "class Service_para_teste():\n",
    "    def __init__(self, name, duration_in_hours, price):\n",
    "        self.name = name\n",
    "        self.duration_in_hours = duration_in_hours\n",
    "        self.price = price\n",
    "        \n",
    "    def change_price(self, new_price):\n",
    "        self.price = new_price\n",
    "        \n",
    "    def discount(self, discount):\n",
    "        return self.price*(1-discount)"
   ]
  },
  {
   "cell_type": "code",
   "execution_count": null,
   "metadata": {},
   "outputs": [],
   "source": [
    "def valida_classe():\n",
    "    marceneiro = Service_para_teste('marceneiro', 2, 30)\n",
    "    assert marceneiro.name == 'marceneiro', \"Nome esta com erro\"\n",
    "    assert marceneiro.duration_in_hours == 2, \"Duracao esta com erro\"\n",
    "    assert marceneiro.price == 30, \"Preco esta com erro\"\n",
    "    \n",
    "    marceneiro.change_price(20)\n",
    "    assert marceneiro.price == 20, \"Metodo de mudanca de preco esta com erro\" \n",
    "    \n",
    "    assert marceneiro.discount(.5) == 10, \"Desconto esta com erro\"\n",
    "    \n",
    "    print(\"Funciona!\")\n",
    "    "
   ]
  },
  {
   "cell_type": "code",
   "execution_count": null,
   "metadata": {},
   "outputs": [],
   "source": [
    "valida_classe()"
   ]
  }
 ],
 "metadata": {
  "kernelspec": {
   "display_name": "Python 3",
   "language": "python",
   "name": "python3"
  },
  "language_info": {
   "codemirror_mode": {
    "name": "ipython",
    "version": 3
   },
   "file_extension": ".py",
   "mimetype": "text/x-python",
   "name": "python",
   "nbconvert_exporter": "python",
   "pygments_lexer": "ipython3",
   "version": "3.8.5"
  }
 },
 "nbformat": 4,
 "nbformat_minor": 4
}
