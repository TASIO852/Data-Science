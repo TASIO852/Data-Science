{
 "cells": [
  {
   "cell_type": "code",
   "execution_count": null,
   "metadata": {},
   "outputs": [],
   "source": [
    "# conexão com o banco de dados do data warehouse e com o Banco de dados original\n",
    "import psycopg2 as pg\n",
    "import pyodbc as odbc\n",
    "\n",
    "# Ferramentas data science\n",
    "import pandas as pd\n",
    "import numpy as np\n",
    "import matplotlib.pyplot as plt\n",
    "import seaborn as sns"
   ]
  },
  {
   "cell_type": "markdown",
   "metadata": {},
   "source": [
    "### Variaveis de ambiente E conexão com o Banco"
   ]
  },
  {
   "cell_type": "code",
   "execution_count": null,
   "metadata": {},
   "outputs": [],
   "source": [
    "# engine = pg.connect(\n",
    "#     \"dbname='lippaus' user='postgres' host='192.168.0.7' port='5432' password='#L!pp@us2@18'\")"
   ]
  },
  {
   "cell_type": "code",
   "execution_count": null,
   "metadata": {},
   "outputs": [],
   "source": [
    "cnxn = odbc.connect(\"Driver={DBMaker 5.2 Driver};\"\n",
    "                        \"Server=18.228.164.49;\"\n",
    "                        \"Database=DBCONTROL_2016_001;\"\n",
    "                        \"uid=DBCONTROLTABLEAU;pwd=123456\")\n",
    "cursor = cnxn.cursor()"
   ]
  },
  {
   "cell_type": "markdown",
   "metadata": {},
   "source": [
    "### Querys"
   ]
  },
  {
   "cell_type": "code",
   "execution_count": null,
   "metadata": {},
   "outputs": [],
   "source": [
    "# df = pd.read_sql('SELECT * FROM \"contabil\" ', con=engine)"
   ]
  },
  {
   "cell_type": "code",
   "execution_count": null,
   "metadata": {},
   "outputs": [],
   "source": [
    "dfb = pd.read_sql('''\n",
    "SELECT \n",
    "\n",
    "    CASE WHEN \n",
    "        CT.CGLANLAN_PLA_CTA >= 3000000000000 THEN 'DRE'\n",
    "        WHEN CT.CGLANLAN_PLA_CTA <= 2999999999999 THEN 'PAT'\n",
    "        ELSE 'ERROR'\n",
    "    END AS \"TIPO DE CONTA\",\n",
    "    \n",
    "    -- DATAS\n",
    "    LEFT(CAST(CT.CGLANLAN_DATA AS VARCHAR(8)),4) AS \"ANO\",\n",
    "    SUBSTRING(CAST(CT.CGLANLAN_DATA AS VARCHAR(8)),5,2) AS \"MES\",\n",
    "    LEFT(CAST(CT.CGLANLAN_DATA AS VARCHAR(8)),4) ||\n",
    "    SUBSTRING(CAST(CT.CGLANLAN_DATA AS VARCHAR(8)),5,2) AS \"MESANO\",\n",
    "    CT.CGLANLAN_DATA AS \"DATA EMISSAO\",\n",
    "\n",
    "    -- DIMENSION\n",
    "    CT.CGLANLAN_FILIAL AS \"COD FILIAL\",\n",
    "    CT.CGLANLAN_NDOC AS \"NUMERO DOCUMENTO\",\n",
    "    CT.CGLANLAN_IDLT AS \"TIPO PLANO CONTABIL\",\n",
    "\n",
    "    -- CODIGO DA CONTA\n",
    "    LTRIM(CAST(CT.CGLANLAN_PLA_CTA AS VARCHAR(20))) AS \"NUMERO DA CONTA\",\n",
    "    RIGHT(CAST(CT.CGLANLAN_PLA_CTA AS VARCHAR(20)),6) AS \"COD CONTA\",\n",
    "\n",
    "    -- VALORES \n",
    "    SUM(CT.CGLANLAN_VALOR) AS \"VALOR\",\n",
    "    RTRIM(CT.CGLANLAN_HISTORICO) AS \"DESCRICAO\",\n",
    "\n",
    "    CASE\n",
    "        WHEN CT.CGLANLAN_TPLANC = 1 THEN 'DEBITO'\n",
    "        ELSE 'CREDITO'\n",
    "    END AS \"DEBITO OU CREDITO\"\n",
    "\n",
    "\n",
    "FROM \n",
    "    DBCONTROL2016001.CT020122 AS CT\n",
    "GROUP BY \n",
    "\n",
    "    CASE WHEN \n",
    "        CT.CGLANLAN_PLA_CTA >= 3000000000000 THEN 'DRE'\n",
    "        WHEN CT.CGLANLAN_PLA_CTA <= 2999999999999 THEN 'PAT'\n",
    "        ELSE 'ERROR'\n",
    "    END,\n",
    "    \n",
    "    -- DATAS\n",
    "    LEFT(CAST(CT.CGLANLAN_DATA AS VARCHAR(8)),4) ,\n",
    "    SUBSTRING(CAST(CT.CGLANLAN_DATA AS VARCHAR(8)),5,2),\n",
    "    LEFT(CAST(CT.CGLANLAN_DATA AS VARCHAR(8)),4) ||\n",
    "    SUBSTRING(CAST(CT.CGLANLAN_DATA AS VARCHAR(8)),5,2),\n",
    "    CT.CGLANLAN_DATA,\n",
    "\n",
    "    -- DIMENSION\n",
    "    CT.CGLANLAN_FILIAL,\n",
    "    CT.CGLANLAN_NDOC,\n",
    "    CT.CGLANLAN_IDLT,\n",
    "\n",
    "    -- CODIGO DA CONTA\n",
    "    LTRIM(CAST(CT.CGLANLAN_PLA_CTA AS VARCHAR(20))),\n",
    "    RIGHT(CAST(CT.CGLANLAN_PLA_CTA AS VARCHAR(20)),6),\n",
    "\n",
    "    -- VALORES \n",
    "    RTRIM(CT.CGLANLAN_HISTORICO),\n",
    "\n",
    "    CASE\n",
    "        WHEN CT.CGLANLAN_TPLANC = 1 THEN 'DEBITO'\n",
    "        ELSE 'CREDITO'\n",
    "    END''', con=cnxn)"
   ]
  },
  {
   "cell_type": "markdown",
   "metadata": {},
   "source": [
    "### Analises Exploratoria dados"
   ]
  },
  {
   "cell_type": "code",
   "execution_count": null,
   "metadata": {},
   "outputs": [],
   "source": [
    "# Informaçoes sobre os tipos de dados do dataset\n",
    "dfb.info()"
   ]
  },
  {
   "cell_type": "code",
   "execution_count": null,
   "metadata": {},
   "outputs": [],
   "source": [
    "# Resumo estatístico do DataFrame, com quartis, mediana, etc.\n",
    "dfb.describe()"
   ]
  },
  {
   "cell_type": "code",
   "execution_count": null,
   "metadata": {},
   "outputs": [],
   "source": [
    "# Inicio do dataframe\n",
    "dfb.head()"
   ]
  },
  {
   "cell_type": "code",
   "execution_count": null,
   "metadata": {},
   "outputs": [],
   "source": [
    "# Fim do dataframe\n",
    "dfb.tail()"
   ]
  },
  {
   "cell_type": "code",
   "execution_count": null,
   "metadata": {},
   "outputs": [],
   "source": [
    "# Quantidade de nulos \n",
    "dfb.isnull().sum()"
   ]
  },
  {
   "cell_type": "code",
   "execution_count": null,
   "metadata": {},
   "outputs": [],
   "source": [
    "# Nome das colunas\n",
    "dfb.columns"
   ]
  },
  {
   "cell_type": "code",
   "execution_count": null,
   "metadata": {},
   "outputs": [],
   "source": [
    "# Numero de indexes\n",
    "dfb.index"
   ]
  },
  {
   "cell_type": "code",
   "execution_count": null,
   "metadata": {},
   "outputs": [],
   "source": [
    "# Contagem de linhas nao nulas no dataset\n",
    "dfb.count()"
   ]
  },
  {
   "cell_type": "code",
   "execution_count": null,
   "metadata": {},
   "outputs": [],
   "source": [
    "# Numero de linhas e de colunas\n",
    "dfb.shape"
   ]
  },
  {
   "cell_type": "code",
   "execution_count": null,
   "metadata": {},
   "outputs": [],
   "source": [
    "# Soma dos valores de um DataFrame\n",
    "dfb['VALOR'].sum()"
   ]
  },
  {
   "cell_type": "code",
   "execution_count": null,
   "metadata": {},
   "outputs": [],
   "source": [
    "# Menor valor de um DataFrame\n",
    "dfb['VALOR'].min()"
   ]
  },
  {
   "cell_type": "code",
   "execution_count": null,
   "metadata": {},
   "outputs": [],
   "source": [
    "# Maior valor\n",
    "dfb['VALOR'].max()"
   ]
  },
  {
   "cell_type": "code",
   "execution_count": null,
   "metadata": {},
   "outputs": [],
   "source": [
    "# Index do menor valor\n",
    "dfb['VALOR'].idxmin()"
   ]
  },
  {
   "cell_type": "code",
   "execution_count": null,
   "metadata": {},
   "outputs": [],
   "source": [
    "# Index do maior valor\n",
    "dfb['VALOR'].idxmax()"
   ]
  },
  {
   "cell_type": "code",
   "execution_count": null,
   "metadata": {},
   "outputs": [],
   "source": [
    "# Média dos valores\n",
    "dfb['VALOR'].mean()"
   ]
  },
  {
   "cell_type": "code",
   "execution_count": null,
   "metadata": {},
   "outputs": [],
   "source": [
    "# Mediana dos valores\n",
    "dfb['VALOR'].median()"
   ]
  },
  {
   "cell_type": "code",
   "execution_count": null,
   "metadata": {},
   "outputs": [],
   "source": [
    "# # Aplicando uma função que substitui a por b\n",
    "dfb.apply(lambda x: x.replace('a', 'b'))"
   ]
  },
  {
   "cell_type": "code",
   "execution_count": null,
   "metadata": {},
   "outputs": [],
   "source": [
    "# Ordenando em ordem crescente\n",
    "dfb['VALOR'] = dfb['VALOR'].sort_values()\n",
    "dfb['VALOR']"
   ]
  },
  {
   "cell_type": "code",
   "execution_count": null,
   "metadata": {},
   "outputs": [],
   "source": [
    "# Ordenando em ordem decrescente\n",
    "dfb['VALOR'].sort_values(ascending=False)"
   ]
  },
  {
   "cell_type": "code",
   "execution_count": null,
   "metadata": {},
   "outputs": [],
   "source": [
    "# Removendo linhas pelo index\n",
    "dfb.drop([0, 1])"
   ]
  },
  {
   "cell_type": "code",
   "execution_count": null,
   "metadata": {},
   "outputs": [],
   "source": [
    "# Removendo colunas utilizando o argumento axis=1\n",
    "dfb.drop('País', axis=1)"
   ]
  },
  {
   "cell_type": "code",
   "execution_count": null,
   "metadata": {},
   "outputs": [],
   "source": [
    "# Criando uma nova coluna em um DataFrame para dados fixos:\n",
    "dfb['Nova Coluna'] = 0"
   ]
  },
  {
   "cell_type": "code",
   "execution_count": null,
   "metadata": {},
   "outputs": [],
   "source": [
    "# Se seu DataFrame possui 3 colunas, passe 3 novos valores de nomes em uma lista\n",
    "dfb.columns = ['Coluna 1', 'Coluna 2', 'Coluna 3']"
   ]
  },
  {
   "cell_type": "code",
   "execution_count": null,
   "metadata": {},
   "outputs": [],
   "source": [
    "# Filtrando o DataFrame para mostrar apenas valores pares (e como se fosse um where no sql)\n",
    "dfb[dfb['VALOR'] % 2 == 0]"
   ]
  },
  {
   "cell_type": "code",
   "execution_count": null,
   "metadata": {},
   "outputs": [],
   "source": [
    "# Selecionando a primeira linha da coluna numero documento\n",
    "dfb.loc[0, 'NUMERO DOCUMENTO']"
   ]
  },
  {
   "cell_type": "code",
   "execution_count": null,
   "metadata": {},
   "outputs": [],
   "source": [
    "# Operações matemáticas eo outras manipulações com vários campos \n",
    "\n",
    "s = pd.Series([1, 2, 3, 4], index=['VALOR ABERTO', 'VALOR', 'VALOR FECHADO', 'VALOR BAIXA '])\n",
    "# Somando todos os valores presentes na Series por 2\n",
    "s.add(2)\n",
    "# Subtraindo 2 de todos os valores\n",
    "s.sub(2)\n",
    "# Multiplicando todos os valores por 2\n",
    "s.mul(2)\n",
    "# Dividindo valores por 2\n",
    "s.div(2)"
   ]
  },
  {
   "cell_type": "code",
   "execution_count": null,
   "metadata": {},
   "outputs": [],
   "source": [
    "sns.barplot(x='TIPO DE CONTA', y='VALOR', data=dfb);"
   ]
  },
  {
   "cell_type": "code",
   "execution_count": null,
   "metadata": {},
   "outputs": [],
   "source": [
    "import seaborn as sns\n",
    "import matplotlib.pyplot as plt\n",
    "\n",
    "sns.catplot(x='TIPO DE CONTA', y='VALOR',data=dfb)\n",
    "plt.show()"
   ]
  },
  {
   "cell_type": "code",
   "execution_count": null,
   "metadata": {},
   "outputs": [],
   "source": [
    "dfb.head()"
   ]
  },
  {
   "cell_type": "code",
   "execution_count": null,
   "metadata": {},
   "outputs": [],
   "source": [
    "# Converter tipo de dado para tirar espaço em branco\n",
    "dfb['DESCRICAO'] = dfb['DESCRICAO'].str.strip()"
   ]
  },
  {
   "cell_type": "code",
   "execution_count": null,
   "metadata": {},
   "outputs": [],
   "source": [
    "dfb['DATA EMISSAO'] = dfb['DATA EMISSAO'].astype(str)\n",
    "dfb['COD FILIAL'] = dfb['COD FILIAL'].astype(str)\n",
    "dfb['NUMERO DOCUMENTO'] = dfb['NUMERO DOCUMENTO'].astype(str)"
   ]
  },
  {
   "cell_type": "code",
   "execution_count": null,
   "metadata": {},
   "outputs": [],
   "source": [
    "dfb.info()"
   ]
  },
  {
   "cell_type": "code",
   "execution_count": null,
   "metadata": {},
   "outputs": [],
   "source": [
    "dfb.head()"
   ]
  },
  {
   "cell_type": "markdown",
   "metadata": {},
   "source": [
    "### Gerando arquivo para o ETL"
   ]
  },
  {
   "cell_type": "code",
   "execution_count": null,
   "metadata": {},
   "outputs": [],
   "source": [
    "# dfb.to_csv(\"C:/Users/tasio.guimaraes/Documents/Contabil/Python/Data/2021.csv\")"
   ]
  }
 ],
 "metadata": {
  "kernelspec": {
   "display_name": "Python 3.10.5 64-bit",
   "language": "python",
   "name": "python3"
  },
  "language_info": {
   "codemirror_mode": {
    "name": "ipython",
    "version": 3
   },
   "file_extension": ".py",
   "mimetype": "text/x-python",
   "name": "python",
   "nbconvert_exporter": "python",
   "pygments_lexer": "ipython3",
   "version": "3.10.5"
  },
  "orig_nbformat": 4,
  "vscode": {
   "interpreter": {
    "hash": "3bb3788a72f96323685ee6827b351cdaec2c91b9563111e1f68cfb231273468c"
   }
  }
 },
 "nbformat": 4,
 "nbformat_minor": 2
}
