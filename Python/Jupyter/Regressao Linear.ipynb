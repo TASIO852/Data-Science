{
 "cells": [
  {
   "cell_type": "code",
   "execution_count": null,
   "metadata": {
    "id": "llC9CrF2J5jV"
   },
   "outputs": [],
   "source": [
    "# conexão com o banco de daods do data warehouse e com o Banco de dados original\n",
    "import psycopg2 as pg\n",
    "import pyodbc as odbc\n",
    "\n",
    "# Ferramentas data science\n",
    "import pandas as pd\n",
    "import numpy as np"
   ]
  },
  {
   "cell_type": "markdown",
   "metadata": {},
   "source": [
    "<img src=\"img/Regressao_calculo.png\" style=\"height: 400px; width:800px;\"/>"
   ]
  },
  {
   "cell_type": "code",
   "execution_count": null,
   "metadata": {},
   "outputs": [],
   "source": [
    "engine = pg.connect(\n",
    "    \"dbname='lippaus' user='postgres' host='192.168.0.7' port='5432' password='#L!pp@us2@18'\")\n",
    "data1 = pd.read_sql('SELECT * FROM \"financas\" ', con=engine)"
   ]
  },
  {
   "cell_type": "code",
   "execution_count": null,
   "metadata": {},
   "outputs": [],
   "source": [
    "cnxn = odbc.connect(\"Driver={DBMaker 5.2 Driver};\"\n",
    "                        \"Server=18.228.164.49;\"\n",
    "                        \"Database=DBCONTROL_2016_001;\"\n",
    "                        \"uid=DBCONTROLTABLEAU;pwd=123456\")\n",
    "cursor = cnxn.cursor()"
   ]
  },
  {
   "cell_type": "code",
   "execution_count": null,
   "metadata": {},
   "outputs": [],
   "source": [
    "data2 = pd.read_sql('SELECT * FROM DBCONTROL2016001.CT020122', con=cnxn)"
   ]
  },
  {
   "cell_type": "code",
   "execution_count": null,
   "metadata": {
    "colab": {
     "base_uri": "https://localhost:8080/"
    },
    "id": "0D_A5h9SNiD6",
    "outputId": "cfd4b36e-9ebd-4eca-e712-cdd95ade2855"
   },
   "outputs": [],
   "source": [
    "data2.shape"
   ]
  },
  {
   "cell_type": "code",
   "execution_count": null,
   "metadata": {},
   "outputs": [],
   "source": [
    "data2.info()"
   ]
  },
  {
   "cell_type": "code",
   "execution_count": null,
   "metadata": {},
   "outputs": [],
   "source": [
    "data2.describe()"
   ]
  },
  {
   "cell_type": "code",
   "execution_count": null,
   "metadata": {},
   "outputs": [],
   "source": [
    "data2['CGLANLAN_VALOR']"
   ]
  },
  {
   "cell_type": "code",
   "execution_count": null,
   "metadata": {
    "colab": {
     "base_uri": "https://localhost:8080/"
    },
    "id": "UjdHdCOUMLne",
    "outputId": "4ddb297d-347f-40d4-fa59-f16891bf383f"
   },
   "outputs": [],
   "source": [
    "import sklearn.model_selection as ms\n",
    "import sklearn.linear_model as lm\n",
    "import matplotlib.pyplot as plt\n",
    "\n",
    "# Tratamento de dados tirando nulo e separando oque vai ser usado par treino e teste\n",
    "data2 = data2.dropna()\n",
    "x = data2.iloc[:, :-1]\n",
    "y = data2.iloc[:, -1]"
   ]
  },
  {
   "cell_type": "markdown",
   "metadata": {},
   "source": [
    "Separando dados de teste e treino"
   ]
  },
  {
   "cell_type": "code",
   "execution_count": null,
   "metadata": {},
   "outputs": [],
   "source": [
    "x_train,x_test,y_train,y_test = ms.train_test_split(x,y,test_size =1/5)"
   ]
  },
  {
   "cell_type": "markdown",
   "metadata": {},
   "source": [
    "Treinando o modelo"
   ]
  },
  {
   "cell_type": "code",
   "execution_count": null,
   "metadata": {},
   "outputs": [],
   "source": [
    "Resultado_da_reta = lm.LinearRegression()\n",
    "Resultado_da_reta.fit(x_train, y_train)"
   ]
  },
  {
   "cell_type": "code",
   "execution_count": null,
   "metadata": {},
   "outputs": [],
   "source": [
    "y_prediction = Resultado_da_reta.predict(x_test)"
   ]
  },
  {
   "cell_type": "code",
   "execution_count": null,
   "metadata": {},
   "outputs": [],
   "source": [
    "plt.scatter(x_train, y_train, color = \"blue\")\n",
    "plt.plot(x_train,y_prediction, color = \"red\")\n",
    "plt.show()"
   ]
  }
 ],
 "metadata": {
  "kernelspec": {
   "display_name": "Python 3.10.5 64-bit",
   "language": "python",
   "name": "python3"
  },
  "language_info": {
   "codemirror_mode": {
    "name": "ipython",
    "version": 3
   },
   "file_extension": ".py",
   "mimetype": "text/x-python",
   "name": "python",
   "nbconvert_exporter": "python",
   "pygments_lexer": "ipython3",
   "version": "3.10.5"
  },
  "orig_nbformat": 4,
  "vscode": {
   "interpreter": {
    "hash": "3bb3788a72f96323685ee6827b351cdaec2c91b9563111e1f68cfb231273468c"
   }
  }
 },
 "nbformat": 4,
 "nbformat_minor": 2
}
