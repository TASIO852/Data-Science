{
 "cells": [
  {
   "cell_type": "code",
   "execution_count": null,
   "metadata": {},
   "outputs": [],
   "source": [
    "b = 8\n",
    "c = 6\n",
    "\n",
    "print(f\"O valor da hipotenusa desse triangulo retangulo é : A = {(b**2 + c**2)**0.5}\")"
   ]
  },
  {
   "cell_type": "code",
   "execution_count": null,
   "metadata": {},
   "outputs": [],
   "source": [
    "l = 4 \n",
    "\n",
    "print(f\"O valor da area do quadrado é : Area = {l**2}\")"
   ]
  },
  {
   "cell_type": "code",
   "execution_count": null,
   "metadata": {},
   "outputs": [],
   "source": [
    "h = 7\n",
    "l = 4\n",
    "print(f\"O valor da area do retangulo é : Area = {l*h}\")"
   ]
  },
  {
   "cell_type": "code",
   "execution_count": 2,
   "metadata": {},
   "outputs": [
    {
     "name": "stdout",
     "output_type": "stream",
     "text": [
      "O valor da area do circulo é : Area = 78.5\n",
      "O valor do comprimento do circulo é : comprimento = 20\n"
     ]
    }
   ],
   "source": [
    "pi = 3.14\n",
    "r = 5\n",
    "\n",
    "print(f\"O valor da area do circulo é : Area = {(r**2)*pi}\")\n",
    "print(f\"O valor do comprimento do circulo é : comprimento = {2*r*2}\")"
   ]
  },
  {
   "cell_type": "code",
   "execution_count": null,
   "metadata": {},
   "outputs": [],
   "source": [
    "h = 1.70\n",
    "m = 65.8\n",
    "\n",
    "print(f\"O indice de massa corporea dessa pessoa é : IMC = {m/h*2: .2f}\")"
   ]
  },
  {
   "cell_type": "code",
   "execution_count": 3,
   "metadata": {},
   "outputs": [
    {
     "name": "stdout",
     "output_type": "stream",
     "text": [
      "O volume dessa esfera é : volume =  137188.69\n"
     ]
    }
   ],
   "source": [
    "r = int(input(\"Informe o raio da circuferencia : \"))\n",
    "vol = (4/3)*pi*(r**3)  \n",
    "\n",
    "print(f\"O volume dessa esfera é : volume = {vol: .2f}\")"
   ]
  },
  {
   "cell_type": "code",
   "execution_count": null,
   "metadata": {},
   "outputs": [],
   "source": [
    "horas_trab = float(input(\"Quantas horas voce trabalhada por mês : \"))\n",
    "horas_din = float(input(\"Informe quanto voce ganha por hora trabalhada : \"))\n",
    "\n",
    "salario = horas_din*horas_trab\n",
    "inss = salario*0.08\n",
    "sindicato = salario*0.05\n",
    "salario_l = (salario-(0.11*salario))-inss-sindicato\n",
    "\n",
    "print(f\"O seu saslario bruto é {salario: .2f} com o desconto do INSS {inss: .2f}e vc pagou ao sindicato {sindicato: .2f} seu salario liquido e de {salario_l: .2f}\")"
   ]
  },
  {
   "cell_type": "code",
   "execution_count": null,
   "metadata": {},
   "outputs": [],
   "source": [
    "r = 5\n",
    "h = 8\n",
    "area = r*2*2 + h\n",
    "lata = area/5\n",
    "tinta = lata/3\n",
    "\n",
    "print(f'voce vai gastar de latas de tinta {lata}')\n",
    "print(f'e vai gastar de tinta por metro quadradp {tinta}')\n",
    "print(f'o custo disso tudo vai ficar por {lata*50}')"
   ]
  },
  {
   "cell_type": "code",
   "execution_count": null,
   "metadata": {},
   "outputs": [],
   "source": [
    "x1 = 3\n",
    "x2 = 5\n",
    "\n",
    "y1 = 4\n",
    "y2 = 9\n",
    "\n",
    "print(f\"a distancia entre os dois pontos e {((x2 - x1)**2 + (y2 - y1)**2)**0.5: .2f}\")"
   ]
  },
  {
   "cell_type": "code",
   "execution_count": null,
   "metadata": {},
   "outputs": [],
   "source": [
    "com = 1350 \n",
    "r = 6\n",
    "h = 3\n",
    "\n",
    "vol = 3.14*(r**2)*h\n",
    "litros = vol*1000\n",
    "auto_caixa = (litros/com)/24\n",
    "print(f'sua caixa de agua gasta em {auto_caixa: .2f} horas {com} litros de agua ')"
   ]
  },
  {
   "cell_type": "code",
   "execution_count": null,
   "metadata": {},
   "outputs": [],
   "source": [
    "mega = float(input('Qual eo tamanho do seu dowload '))\n",
    "vl = float(input('Qual a velocidade da sua internet '))\n",
    "print(f'Vai demorar aproximadamente {mega/vl: .1f} para que seu arquivo seja baixado')"
   ]
  },
  {
   "cell_type": "code",
   "execution_count": null,
   "metadata": {},
   "outputs": [],
   "source": [
    "l = 3\n",
    "h = 2\n",
    "vol = 3.14*(l**2)*h\n",
    "litros = vol*1000\n",
    "\n",
    "print(f'Um tanque com {litros} litros de gasolina fazendo 10 km/l tem autonomia de {litros/10} quilometros')"
   ]
  },
  {
   "cell_type": "code",
   "execution_count": null,
   "metadata": {},
   "outputs": [],
   "source": [
    "pi = 3.14 \n",
    "r = int(input('coleque o numero correspondente ao raio'))\n",
    "if (r < 5) :\n",
    "    print(f'Area = {4*pi*(r**2)}')\n",
    "else:\n",
    "    print(f'Area = {(4/3)*pi*(r**2)}')\n"
   ]
  },
  {
   "cell_type": "code",
   "execution_count": null,
   "metadata": {},
   "outputs": [],
   "source": [
    "b = int(input('coloque o numero da base '))\n",
    "h = int(input('coloque a altura '))\n",
    "\n",
    "cem = 2.54\n",
    "jar = 0.03\n",
    "if((b > 0) and (h > 0)):\n",
    "    print(f'polegadas {2*b + 2*h}')\n",
    "    print(f'centimetros {(2*b + 2*h)*cem}')\n",
    "    print(f'jardas {(2*b + 2*h)* jar}')\n",
    "else:\n",
    "    print('coloque os numeros corretos')"
   ]
  },
  {
   "cell_type": "code",
   "execution_count": null,
   "metadata": {},
   "outputs": [],
   "source": [
    "h = float(input('qual ea sua altura: '))\n",
    "sexo = str(input('qual eo  seu sexo: '))\n",
    "\n",
    "if(sexo == m):\n",
    "    print(f'{(72.7 *ℎ) -58}')\n",
    "else:\n",
    "   print(f'{(62.1 * ℎ) - 44.7}')"
   ]
  },
  {
   "cell_type": "code",
   "execution_count": null,
   "metadata": {},
   "outputs": [],
   "source": [
    "number = int(input('coloque um numero positivo: '))\n",
    "impar = number**2 \n",
    "if (impar % 2):\n",
    "    print('coloque outro numero')\n",
    "else:\n",
    "    print('tudo correto')"
   ]
  },
  {
   "cell_type": "code",
   "execution_count": null,
   "metadata": {},
   "outputs": [],
   "source": [
    "precoMer = 50\n",
    "\n",
    "resposta = input('[1]acaresimo ou [2]desconto')\n",
    "if resposta == '1':\n",
    "    print(f'o preço do produto e: {(precoMer*0.03)+precoMer} ')\n",
    "elif resposta == '2':\n",
    "    print(f'o preço do produto e: {(precoMer*0.03)-precoMer} ')\n",
    "else:\n",
    "    print('coloque a opçao correta')"
   ]
  },
  {
   "cell_type": "code",
   "execution_count": null,
   "metadata": {},
   "outputs": [],
   "source": [
    "escala = input('Esta em celsius ou fahrenheit a sua escala de temperatura ? ')\n",
    "temp = float(input('qual o valor da temperatura ? '))\n",
    "fahrenheit = temp\n",
    "if escala == 'celsius':\n",
    "    print(temp)\n",
    "else:\n",
    "    print(f'f = {temp/5*(32/9)}')"
   ]
  },
  {
   "cell_type": "code",
   "execution_count": null,
   "metadata": {},
   "outputs": [],
   "source": [
    "moeda = float(input('quanto vc tem no bolso ? '))\n",
    "carteira = input('qual ea moeda de origem')\n",
    "if moeda == 'euro':\n",
    "    print(moeda)\n",
    "elif moeda == 'dolar':\n",
    "    print(moeda * 1.12)\n",
    "else:\n",
    "    print(moeda * 4.08)"
   ]
  },
  {
   "cell_type": "code",
   "execution_count": null,
   "metadata": {},
   "outputs": [],
   "source": [
    "from datetime import datetime\n",
    "import random\n",
    "\n",
    "carro = input('[1]entrando / [2]saindo')\n",
    "tempo = random.randrange(90)\n",
    "if carro == '1':\n",
    "    print(f'vc ficou por {tempo}')\n",
    "else:\n",
    "    if tempo < 30:\n",
    "        print(f'voce esta saindo em {datetime.now().hour,datetime.now().minute} ')\n",
    "    else:\n",
    "        print(f'voce esta saindo em {datetime.now().hour,datetime.now().minute + 30} por isso pagara {tempo*0.30 : .2f}')\n",
    "\n",
    "        # noa entendi muito bem\n",
    "        "
   ]
  },
  {
   "cell_type": "code",
   "execution_count": null,
   "metadata": {},
   "outputs": [],
   "source": [
    "altura = float(input('qual eo seu tamnaho em metros ? '))\n",
    "massa = float(input('quanto vc pesa em quilos ? '))\n",
    "imc = massa/altura**2\n",
    "if imc < 18.5:\n",
    "    print('magreza')\n",
    "elif imc < 25:\n",
    "    print('saudavel')\n",
    "elif imc < 30:\n",
    "    print('sobre peso')\n",
    "elif imc < 35:\n",
    "    print('Obesidade Grau I')\n",
    "elif imc <= 40:\n",
    "    print('Obesidade Grau II (Severa)')\n",
    "else:\n",
    "    print('Obesidade Grau III (Mórbida)')"
   ]
  },
  {
   "cell_type": "code",
   "execution_count": null,
   "metadata": {},
   "outputs": [],
   "source": [
    "# aula do dia 21/09/2021\n",
    "\n",
    "alunos = 0               # VALOR INICIAL: 0 ou 1\n",
    "soma   = 0\n",
    "while (alunos < 5):      # VALOR FINAL: 50 Alunos\n",
    "  try:\n",
    "    print(f'Nota [0, 10] do Aluno {alunos + 1}: ')\n",
    "    nota = float(input())\n",
    "\n",
    "    # TRATAMENTO DE ERRO:\n",
    "    if (nota < 0 or nota > 10):\n",
    "      print('ERRO: Digitação. Escolha de novo')\n",
    "    else:\n",
    "      # soma = soma + nota\n",
    "      soma += nota\n",
    "      alunos += 1          # Iteração: de 1 em 1 aluno\n",
    "  \n",
    "  except Exception as erro:\n",
    "    print(f'ERRO: {erro}')\n",
    "print(f'Média da Turma {soma / alunos: .1f}')"
   ]
  },
  {
   "cell_type": "code",
   "execution_count": null,
   "metadata": {},
   "outputs": [],
   "source": [
    "alunos = 0                             # VALOR INICIAL: 0 ou 1\n",
    "SIM, NAO = 0, 0\n",
    "while (alunos < 5):                    # VALOR FINAL: 1000 Alunos\n",
    "  # TRATAMENTO DE EXCEÇÃO:\n",
    "  try:\n",
    "    print('MENU:')\n",
    "    print('Você gostou das aulas tele-presenciais? 1: SIM ou 0: NÃO')\n",
    "    print(f'Escolha do Aluno {alunos + 1}: ')\n",
    "    resposta = int(input())\n",
    "\n",
    "    #TRATAMENTO DE ERRO:\n",
    "    if (resposta != 0 and resposta != 1):\n",
    "      print('ERRO: Escolha. Escolha de novo.')\n",
    "    else:\n",
    "      if resposta == 0:\n",
    "        NAO += 1\n",
    "      else:\n",
    "        SIM += 1\n",
    "      alunos += 1                      # Iteração: de 1 em 1 aluno\n",
    "      print(f'SIM: {SIM / alunos * 100: .1f} %.')\n",
    "      print(f'NÃO: {NAO / alunos * 100: .1f} %.')\n",
    "  except Exception as erro:\n",
    "    print(f'ERRO: {erro}')"
   ]
  },
  {
   "cell_type": "code",
   "execution_count": null,
   "metadata": {},
   "outputs": [],
   "source": [
    "votos = 0\n",
    "ful, bel, cic = 0, 0, 0\n",
    "while (votos < 100):\n",
    "    try:\n",
    "        print('MENU: ')\n",
    "        print('Qual o seu voto para síndico do prédio? 0: Fulano de Tal, 1: Beltrano de Tal ou 2: Cicrano de Tal')\n",
    "        print(f'Voto {votos + 1}')\n",
    "        resposta = int(input())\n",
    "\n",
    "        if (resposta != 0 and resposta != 1 and resposta != 2):\n",
    "            print('ERRO: Escolha de novo.')\n",
    "        else:\n",
    "            if resposta == 0:\n",
    "                ful += 1\n",
    "            elif resposta == 1:\n",
    "                bel += 1\n",
    "            else:\n",
    "                cic += 1\n",
    "            votos += 1\n",
    "            print(f'Fulano de Tal: {ful / votos * 100: .1f}%')\n",
    "            print(f'Beltrano de Tal: {bel / votos * 100: .1f}%')\n",
    "            print(f'Cicrano de Tal: {cic / votos * 100: .1f}%')\n",
    "    except Exception as erro:\n",
    "        print(f'ERRO: {erro}')"
   ]
  }
 ],
 "metadata": {
  "kernelspec": {
   "display_name": "Python 3.10.4 64-bit",
   "language": "python",
   "name": "python3"
  },
  "language_info": {
   "codemirror_mode": {
    "name": "ipython",
    "version": 3
   },
   "file_extension": ".py",
   "mimetype": "text/x-python",
   "name": "python",
   "nbconvert_exporter": "python",
   "pygments_lexer": "ipython3",
   "version": "3.10.4"
  },
  "orig_nbformat": 4,
  "vscode": {
   "interpreter": {
    "hash": "369f2c481f4da34e4445cda3fffd2e751bd1c4d706f27375911949ba6bb62e1c"
   }
  }
 },
 "nbformat": 4,
 "nbformat_minor": 2
}
