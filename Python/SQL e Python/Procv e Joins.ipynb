{
 "cells": [
  {
   "cell_type": "code",
   "execution_count": null,
   "metadata": {},
   "outputs": [],
   "source": [
    "import pandas as pd"
   ]
  },
  {
   "cell_type": "code",
   "execution_count": null,
   "metadata": {},
   "outputs": [],
   "source": [
    "dados_cadastro = {'Id': [120, 333, 444, 532], \n",
    "     'Idade': [20, 43, 55, 32]}\n",
    "\n",
    "df_cadastro = pd.DataFrame(data=dados_cadastro)\n",
    "df_cadastro"
   ]
  },
  {
   "cell_type": "code",
   "execution_count": null,
   "metadata": {},
   "outputs": [],
   "source": [
    "dados_uf = {'Id': [120, 333, 444, 532], \n",
    "     'UF': ['PA', 'SP', 'SP', 'PA']}\n",
    "\n",
    "df_uf = pd.DataFrame(data=dados_uf)\n",
    "df_uf"
   ]
  },
  {
   "cell_type": "code",
   "execution_count": null,
   "metadata": {},
   "outputs": [],
   "source": [
    "# Equivalente ao PROCV do Excel\n",
    "pd.merge(df_cadastro, df_uf, on='Id', how='left')"
   ]
  },
  {
   "cell_type": "code",
   "execution_count": null,
   "metadata": {},
   "outputs": [],
   "source": [
    "df_full_cadastro =  pd.merge(df_cadastro, df_uf, on='Id', how='left')\n",
    "df_full_cadastro"
   ]
  },
  {
   "cell_type": "code",
   "execution_count": null,
   "metadata": {},
   "outputs": [],
   "source": [
    "dados_compra = {'Id': [120, 333, 444, 532, 444, 333], \n",
    "     'Vlr_Compra': [300, 230, 140, 150, 220, 100]}\n",
    "\n",
    "df_compra = pd.DataFrame(data=dados_compra)\n",
    "df_compra"
   ]
  },
  {
   "cell_type": "code",
   "execution_count": null,
   "metadata": {},
   "outputs": [],
   "source": [
    "df_cadastro_c_compras = pd.merge(df_full_cadastro, df_compra, on='Id', how='left')"
   ]
  },
  {
   "cell_type": "code",
   "execution_count": null,
   "metadata": {},
   "outputs": [],
   "source": [
    "df_cadastro_c_compras"
   ]
  },
  {
   "cell_type": "code",
   "execution_count": null,
   "metadata": {},
   "outputs": [],
   "source": [
    "df_cadastro_c_compras.groupby('Id')['Vlr_Compra'].mean()"
   ]
  },
  {
   "cell_type": "code",
   "execution_count": null,
   "metadata": {},
   "outputs": [],
   "source": [
    "df_cadastro_c_compras.groupby('Id')['Vlr_Compra'].sum()"
   ]
  },
  {
   "cell_type": "code",
   "execution_count": null,
   "metadata": {},
   "outputs": [],
   "source": [
    "df_cadastro_c_compras.groupby('Id')['Vlr_Compra'].count()"
   ]
  },
  {
   "cell_type": "code",
   "execution_count": null,
   "metadata": {},
   "outputs": [],
   "source": [
    "# E se tiver nomes diferentes?\n",
    "dados_compra = {'Chave_Identificacao': [120, 333, 444, 532, 444, 333], \n",
    "     'Vlr_Compra': [300, 230, 140, 150, 220, 100]}\n",
    "\n",
    "df_compra = pd.DataFrame(data=dados_compra)\n",
    "df_compra"
   ]
  },
  {
   "cell_type": "code",
   "execution_count": null,
   "metadata": {},
   "outputs": [],
   "source": [
    "pd.merge(df_full_cadastro, df_compra, left_on='Id', right_on = 'Chave_Identificacao', how='left')"
   ]
  },
  {
   "cell_type": "code",
   "execution_count": null,
   "metadata": {},
   "outputs": [],
   "source": [
    "pd.merge(df_full_cadastro[['Id', 'Idade']], df_compra, left_on='Id', right_on = 'Chave_Identificacao', how='left')"
   ]
  },
  {
   "cell_type": "code",
   "execution_count": null,
   "metadata": {},
   "outputs": [],
   "source": [
    "df_desconto = pd.DataFrame(data={'Id': [120, 333], \n",
    "     'Desconto': [30, 10]})\n",
    "\n",
    "df_desconto"
   ]
  },
  {
   "cell_type": "code",
   "execution_count": null,
   "metadata": {},
   "outputs": [],
   "source": [
    "pd.merge(df_full_cadastro, df_desconto, on='Id', how='left')"
   ]
  },
  {
   "cell_type": "code",
   "execution_count": null,
   "metadata": {},
   "outputs": [],
   "source": [
    "pd.merge(df_full_cadastro, df_desconto, on='Id', how='outer')"
   ]
  },
  {
   "cell_type": "code",
   "execution_count": null,
   "metadata": {},
   "outputs": [],
   "source": [
    "pd.merge(df_full_cadastro, df_desconto, on='Id', how='right')"
   ]
  },
  {
   "cell_type": "code",
   "execution_count": null,
   "metadata": {},
   "outputs": [],
   "source": [
    "df_desconto = pd.DataFrame(data={'Id': [120, 333, 555], \n",
    "     'Desconto': [30, 10, 100]})\n",
    "\n",
    "df_desconto"
   ]
  },
  {
   "cell_type": "code",
   "execution_count": null,
   "metadata": {},
   "outputs": [],
   "source": [
    "pd.merge(df_full_cadastro, df_desconto, on='Id', how='right')"
   ]
  },
  {
   "cell_type": "code",
   "execution_count": null,
   "metadata": {},
   "outputs": [],
   "source": [
    "pd.merge(df_full_cadastro, df_desconto, on='Id', how='left', indicator=True)"
   ]
  },
  {
   "cell_type": "code",
   "execution_count": null,
   "metadata": {},
   "outputs": [],
   "source": [
    "pd.merge(df_full_cadastro, df_desconto, on='Id', how='left', indicator=True).query('_merge != \"both\"')"
   ]
  }
 ],
 "metadata": {
  "kernelspec": {
   "display_name": "Python 3",
   "language": "python",
   "name": "python3"
  },
  "language_info": {
   "codemirror_mode": {
    "name": "ipython",
    "version": 3
   },
   "file_extension": ".py",
   "mimetype": "text/x-python",
   "name": "python",
   "nbconvert_exporter": "python",
   "pygments_lexer": "ipython3",
   "version": "3.7.6"
  }
 },
 "nbformat": 4,
 "nbformat_minor": 4
}
